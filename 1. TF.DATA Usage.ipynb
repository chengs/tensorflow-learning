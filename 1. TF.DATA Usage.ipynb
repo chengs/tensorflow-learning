{
 "cells": [
  {
   "cell_type": "code",
   "execution_count": 7,
   "metadata": {},
   "outputs": [
    {
     "data": {
      "text/plain": [
       "'2.1.0'"
      ]
     },
     "execution_count": 7,
     "metadata": {},
     "output_type": "execute_result"
    }
   ],
   "source": [
    "import numpy as np\n",
    "import tensorflow as tf\n",
    "from pprint import pprint\n",
    "tf.__version__"
   ]
  },
  {
   "cell_type": "code",
   "execution_count": 94,
   "metadata": {},
   "outputs": [],
   "source": [
    "# https://www.tensorflow.org/guide/data#consuming_tfrecord_data"
   ]
  },
  {
   "cell_type": "code",
   "execution_count": 38,
   "metadata": {},
   "outputs": [
    {
     "name": "stdout",
     "output_type": "stream",
     "text": [
      "<TensorSliceDataset shapes: (), types: tf.int32>\n",
      "from iterator 8\n",
      "<tf.Tensor: shape=(), dtype=int32, numpy=8>\n",
      "8\n",
      "<tf.Tensor: shape=(), dtype=int32, numpy=3>\n",
      "3\n",
      "<tf.Tensor: shape=(), dtype=int32, numpy=0>\n",
      "0\n",
      "<tf.Tensor: shape=(), dtype=int32, numpy=8>\n",
      "8\n",
      "<tf.Tensor: shape=(), dtype=int32, numpy=2>\n",
      "2\n",
      "<tf.Tensor: shape=(), dtype=int32, numpy=1>\n",
      "1\n"
     ]
    }
   ],
   "source": [
    "dataset = tf.data.Dataset.from_tensor_slices([8, 3, 0, 8, 2, 1])\n",
    "pprint(dataset)\n",
    "\n",
    "it = iter(dataset)\n",
    "print('from iterator', next(it).numpy())\n",
    "\n",
    "for elem in dataset:\n",
    "    pprint(elem)\n",
    "    pprint(elem.numpy())"
   ]
  },
  {
   "cell_type": "code",
   "execution_count": 58,
   "metadata": {},
   "outputs": [
    {
     "name": "stdout",
     "output_type": "stream",
     "text": [
      "<TensorSliceDataset shapes: ((2,), (1,), (3,)), types: (tf.float64, tf.float64, tf.float64)>\n",
      "(<tf.Tensor: shape=(2,), dtype=float64, numpy=array([0.85083017, 0.50487089])>,\n",
      " <tf.Tensor: shape=(1,), dtype=float64, numpy=array([0.50880167])>,\n",
      " <tf.Tensor: shape=(3,), dtype=float64, numpy=array([0.67665192, 0.49568366, 0.03434172])>)\n",
      "[0.85083017 0.50487089] [0.50880167] [0.67665192 0.49568366 0.03434172]\n",
      "(<tf.Tensor: shape=(2,), dtype=float64, numpy=array([0.26958172, 0.70639786])>,\n",
      " <tf.Tensor: shape=(1,), dtype=float64, numpy=array([0.99648516])>,\n",
      " <tf.Tensor: shape=(3,), dtype=float64, numpy=array([0.13447756, 0.30223672, 0.04863193])>)\n",
      "[0.26958172 0.70639786] [0.99648516] [0.13447756 0.30223672 0.04863193]\n",
      "(<tf.Tensor: shape=(2,), dtype=float64, numpy=array([0.99141309, 0.18832028])>,\n",
      " <tf.Tensor: shape=(1,), dtype=float64, numpy=array([0.90281881])>,\n",
      " <tf.Tensor: shape=(3,), dtype=float64, numpy=array([0.21992417, 0.26998951, 0.84557368])>)\n",
      "[0.99141309 0.18832028] [0.90281881] [0.21992417 0.26998951 0.84557368]\n",
      "s Tensor(\"args_0:0\", shape=(), dtype=float64)\n",
      "v Tensor(\"args_1:0\", shape=(2,), dtype=float64)\n"
     ]
    },
    {
     "data": {
      "text/plain": [
       "1.399589031760338"
      ]
     },
     "execution_count": 58,
     "metadata": {},
     "output_type": "execute_result"
    }
   ],
   "source": [
    "# can be many tuples but the same dimension\n",
    "dataset = tf.data.Dataset.from_tensor_slices((np.random.rand(3,2), np.random.rand(3,1), np.random.rand(3,3)))\n",
    "pprint(dataset)\n",
    "\n",
    "for elem in dataset:\n",
    "    pprint(elem)\n",
    "    print(elem[0].numpy(), elem[1].numpy(), elem[2].numpy())\n",
    "    \n",
    "def reduce_func(s,v):\n",
    "    print('s',s)\n",
    "    print('v',v[0])\n",
    "    return s +v[0][1]\n",
    "\n",
    "# score at the begining, \n",
    "dataset.reduce(initial_state=np.float64(0.0), reduce_func=reduce_func).numpy()"
   ]
  },
  {
   "cell_type": "code",
   "execution_count": 35,
   "metadata": {},
   "outputs": [
    {
     "name": "stdout",
     "output_type": "stream",
     "text": [
      "<TensorSliceDataset shapes: ({f1: (2,), f2: (1,), f3: (), f4: (2,)}, (1,), {f1: (2,), f2: (1,), f3: (), f4: (2,)}), types: ({f1: tf.float64, f2: tf.float64, f3: tf.string, f4: tf.string}, tf.float64, {f1: tf.float64, f2: tf.float64, f3: tf.string, f4: tf.string})>\n",
      "({'f1': <tf.Tensor: shape=(2,), dtype=float64, numpy=array([0.95685284, 0.22205657])>,\n",
      "  'f2': <tf.Tensor: shape=(1,), dtype=float64, numpy=array([0.50359126])>,\n",
      "  'f3': <tf.Tensor: shape=(), dtype=string, numpy=b'a'>,\n",
      "  'f4': <tf.Tensor: shape=(2,), dtype=string, numpy=array([b'a', b'b'], dtype=object)>},\n",
      " <tf.Tensor: shape=(1,), dtype=float64, numpy=array([0.27363377])>,\n",
      " {'f1': <tf.Tensor: shape=(2,), dtype=float64, numpy=array([0.88180238, 0.51927149])>,\n",
      "  'f2': <tf.Tensor: shape=(1,), dtype=float64, numpy=array([0.81846554])>,\n",
      "  'f3': <tf.Tensor: shape=(), dtype=string, numpy=b'a'>,\n",
      "  'f4': <tf.Tensor: shape=(2,), dtype=string, numpy=array([b'a', b'b'], dtype=object)>})\n",
      "({'f1': <tf.Tensor: shape=(2,), dtype=float64, numpy=array([0.47797712, 0.32875449])>,\n",
      "  'f2': <tf.Tensor: shape=(1,), dtype=float64, numpy=array([0.60216727])>,\n",
      "  'f3': <tf.Tensor: shape=(), dtype=string, numpy=b'a'>,\n",
      "  'f4': <tf.Tensor: shape=(2,), dtype=string, numpy=array([b'a', b'b'], dtype=object)>},\n",
      " <tf.Tensor: shape=(1,), dtype=float64, numpy=array([0.16045439])>,\n",
      " {'f1': <tf.Tensor: shape=(2,), dtype=float64, numpy=array([0.84539989, 0.37059621])>,\n",
      "  'f2': <tf.Tensor: shape=(1,), dtype=float64, numpy=array([0.00357101])>,\n",
      "  'f3': <tf.Tensor: shape=(), dtype=string, numpy=b'a'>,\n",
      "  'f4': <tf.Tensor: shape=(2,), dtype=string, numpy=array([b'a', b'b'], dtype=object)>})\n",
      "({'f1': <tf.Tensor: shape=(2,), dtype=float64, numpy=array([0.91361289, 0.00698782])>,\n",
      "  'f2': <tf.Tensor: shape=(1,), dtype=float64, numpy=array([0.75330197])>,\n",
      "  'f3': <tf.Tensor: shape=(), dtype=string, numpy=b'a'>,\n",
      "  'f4': <tf.Tensor: shape=(2,), dtype=string, numpy=array([b'a', b'b'], dtype=object)>},\n",
      " <tf.Tensor: shape=(1,), dtype=float64, numpy=array([0.32389169])>,\n",
      " {'f1': <tf.Tensor: shape=(2,), dtype=float64, numpy=array([0.84513878, 0.16650323])>,\n",
      "  'f2': <tf.Tensor: shape=(1,), dtype=float64, numpy=array([0.9282758])>,\n",
      "  'f3': <tf.Tensor: shape=(), dtype=string, numpy=b'a'>,\n",
      "  'f4': <tf.Tensor: shape=(2,), dtype=string, numpy=array([b'a', b'b'], dtype=object)>})\n"
     ]
    }
   ],
   "source": [
    "# can be many tuples but the same dimension\n",
    "dataset = tf.data.Dataset.from_tensor_slices(({\n",
    "    'f1':np.random.rand(3,2),\n",
    "    'f2':np.random.rand(3,1),\n",
    "    'f3':['a']*3,\n",
    "    'f4':[('a','b')]*3\n",
    "}, np.random.rand(3,1),\n",
    "{\n",
    "    'f1':np.random.rand(3,2),\n",
    "    'f2':np.random.rand(3,1),\n",
    "    'f3':['a']*3,\n",
    "    'f4':[('a','b')]*3\n",
    "}))\n",
    "pprint(dataset)\n",
    "\n",
    "for elem in dataset:\n",
    "    pprint(elem)"
   ]
  },
  {
   "cell_type": "code",
   "execution_count": 62,
   "metadata": {},
   "outputs": [
    {
     "name": "stdout",
     "output_type": "stream",
     "text": [
      "(TensorSpec(shape=(2,), dtype=tf.float32, name=None), TensorSpec(shape=(4,), dtype=tf.float32, name=None))\n",
      "(<tf.Tensor: shape=(2,), dtype=float32, numpy=array([0.3892523, 0.650507 ], dtype=float32)>,\n",
      " <tf.Tensor: shape=(4,), dtype=float32, numpy=array([0.10890687, 0.26567245, 0.273324  , 0.9510344 ], dtype=float32)>)\n",
      "(<tf.Tensor: shape=(2,), dtype=float32, numpy=array([0.67673707, 0.44649553], dtype=float32)>,\n",
      " <tf.Tensor: shape=(4,), dtype=float32, numpy=array([0.0352757 , 0.31573665, 0.25847614, 0.28744495], dtype=float32)>)\n",
      "(<tf.Tensor: shape=(2,), dtype=float32, numpy=array([0.29928136, 0.03280652], dtype=float32)>,\n",
      " <tf.Tensor: shape=(4,), dtype=float32, numpy=array([0.34079146, 0.28909087, 0.7984201 , 0.08759177], dtype=float32)>)\n"
     ]
    }
   ],
   "source": [
    "d1 = tf.data.Dataset.from_tensor_slices(tf.random.uniform([3,2]))\n",
    "d2 = tf.data.Dataset.from_tensor_slices(tf.random.uniform([3,4]))\n",
    "dataset = tf.data.Dataset.zip((d1,d2))\n",
    "print(dataset.element_spec)\n",
    "\n",
    "for elem in dataset:\n",
    "    pprint(elem)"
   ]
  },
  {
   "cell_type": "code",
   "execution_count": 76,
   "metadata": {},
   "outputs": [
    {
     "name": "stdout",
     "output_type": "stream",
     "text": [
      "TensorSpec(shape=(4,), dtype=tf.float32, name=None)\n",
      "<tf.Tensor: shape=(4,), dtype=float32, numpy=array([5.0533695, 5.578626 , 5.422433 , 4.87272  ], dtype=float32)>\n",
      "<tf.Tensor: shape=(4,), dtype=float32, numpy=array([4.679704 , 6.189848 , 6.0703855, 4.8973866], dtype=float32)>\n",
      "<tf.Tensor: shape=(4,), dtype=float32, numpy=array([5.678505 , 5.7348814, 5.250229 , 5.7345314], dtype=float32)>\n"
     ]
    }
   ],
   "source": [
    "d1 = tf.data.Dataset.from_tensor_slices(tf.random.uniform([3,2]))\n",
    "d2 = tf.data.Dataset.from_tensor_slices(tf.random.uniform([3,4]))\n",
    "dataset = tf.data.Dataset.zip((d1,d2)).map(lambda v1,v2: tf.math.reduce_sum(tf.math.exp(v1))+tf.math.exp(v2))\n",
    "print(dataset.element_spec)\n",
    "\n",
    "for elem in dataset:\n",
    "    pprint(elem)"
   ]
  },
  {
   "cell_type": "code",
   "execution_count": 90,
   "metadata": {},
   "outputs": [
    {
     "name": "stdout",
     "output_type": "stream",
     "text": [
      "<TFRecordDatasetV2 shapes: (), types: tf.string>\n",
      "<class 'tensorflow.core.example.example_pb2.Example'>\n"
     ]
    }
   ],
   "source": [
    "# https://www.tensorflow.org/api_docs/python/tf/train/Example\n",
    "# https://www.tensorflow.org/tutorials/load_data/tfrecord\n",
    "# tf record\n",
    "dataset = tf.data.TFRecordDataset(filenames=['./data.tfrecord'])\n",
    "print(dataset)\n",
    "raw_example = next(iter(dataset))\n",
    "parsed = tf.train.Example.FromString(raw_example.numpy())\n",
    "print(type(parsed))"
   ]
  },
  {
   "cell_type": "code",
   "execution_count": 103,
   "metadata": {},
   "outputs": [
    {
     "name": "stdout",
     "output_type": "stream",
     "text": [
      "<tf.Tensor: shape=(), dtype=string, numpy=b\"\\xef\\xbb\\xbfAchilles sing, O Goddess! Peleus' son;\">\n",
      "<tf.Tensor: shape=(), dtype=string, numpy=b'His wrath pernicious, who ten thousand woes'>\n",
      "<tf.Tensor: shape=(), dtype=string, numpy=b\"Caused to Achaia's host, sent many a soul\">\n"
     ]
    }
   ],
   "source": [
    "dataset = tf.data.TextLineDataset(filenames=['./cowper.txt'])\n",
    "for elem in dataset.take(3):\n",
    "    pprint(elem)\n",
    "\n",
    "# interleave?"
   ]
  },
  {
   "cell_type": "code",
   "execution_count": 108,
   "metadata": {},
   "outputs": [
    {
     "name": "stdout",
     "output_type": "stream",
     "text": [
      "b'survived,sex,age,n_siblings_spouses,parch,fare,class,deck,embark_town,alone'\n",
      "b'0,male,22.0,1,0,7.25,Third,unknown,Southampton,n'\n",
      "b'1,female,38.0,1,0,71.2833,First,C,Cherbourg,n'\n",
      "b'1,female,26.0,0,0,7.925,Third,unknown,Southampton,y'\n",
      "b'1,female,35.0,1,0,53.1,First,C,Southampton,n'\n",
      "b'0,male,28.0,0,0,8.4583,Third,unknown,Queenstown,y'\n",
      "b'0,male,2.0,3,1,21.075,Third,unknown,Southampton,n'\n",
      "b'1,female,27.0,0,2,11.1333,Third,unknown,Southampton,n'\n",
      "b'1,female,14.0,1,0,30.0708,Second,unknown,Cherbourg,n'\n",
      "b'1,female,4.0,1,1,16.7,Third,G,Southampton,n'\n",
      "=====\n",
      "b'1,female,38.0,1,0,71.2833,First,C,Cherbourg,n'\n",
      "b'1,female,26.0,0,0,7.925,Third,unknown,Southampton,y'\n",
      "b'1,female,35.0,1,0,53.1,First,C,Southampton,n'\n",
      "b'1,female,27.0,0,2,11.1333,Third,unknown,Southampton,n'\n",
      "b'1,female,14.0,1,0,30.0708,Second,unknown,Cherbourg,n'\n",
      "b'1,female,4.0,1,1,16.7,Third,G,Southampton,n'\n",
      "b'1,male,28.0,0,0,13.0,Second,unknown,Southampton,y'\n",
      "b'1,female,28.0,0,0,7.225,Third,unknown,Cherbourg,y'\n",
      "b'1,male,28.0,0,0,35.5,First,A,Southampton,y'\n",
      "b'1,female,38.0,1,5,31.3875,Third,unknown,Southampton,n'\n"
     ]
    }
   ],
   "source": [
    "titanic_lines = tf.data.TextLineDataset(filenames=['./train.csv'])\n",
    "for line in titanic_lines.take(10):\n",
    "    print(line.numpy())\n",
    "    \n",
    "def survived(line):\n",
    "    return tf.not_equal(tf.strings.substr(line, 0, 1), \"0\")\n",
    "\n",
    "# tf.strings?\n",
    "\n",
    "print('=====')\n",
    "survivors = titanic_lines.skip(1).filter(survived)\n",
    "\n",
    "for line in survivors.take(10):\n",
    "    print(line.numpy())"
   ]
  },
  {
   "cell_type": "code",
   "execution_count": 119,
   "metadata": {},
   "outputs": [
    {
     "name": "stdout",
     "output_type": "stream",
     "text": [
      "batch 0\n",
      "OrderedDict([('sex', <tf.Tensor: shape=(4,), dtype=string, numpy=array([b'male', b'male', b'male', b'male'], dtype=object)>), ('age', <tf.Tensor: shape=(4,), dtype=float32, numpy=array([61.,  4., 34., 36.], dtype=float32)>), ('n_siblings_spouses', <tf.Tensor: shape=(4,), dtype=int32, numpy=array([0, 4, 1, 1], dtype=int32)>), ('parch', <tf.Tensor: shape=(4,), dtype=int32, numpy=array([0, 1, 0, 2], dtype=int32)>), ('fare', <tf.Tensor: shape=(4,), dtype=float32, numpy=array([ 32.3208,  29.125 ,  21.    , 120.    ], dtype=float32)>), ('class', <tf.Tensor: shape=(4,), dtype=string, numpy=array([b'First', b'Third', b'Second', b'First'], dtype=object)>), ('deck', <tf.Tensor: shape=(4,), dtype=string, numpy=array([b'D', b'unknown', b'unknown', b'B'], dtype=object)>), ('embark_town', <tf.Tensor: shape=(4,), dtype=string, numpy=\n",
      "array([b'Southampton', b'Queenstown', b'Southampton', b'Southampton'],\n",
      "      dtype=object)>), ('alone', <tf.Tensor: shape=(4,), dtype=string, numpy=array([b'y', b'n', b'n', b'n'], dtype=object)>)])\n",
      "tf.Tensor([0 0 0 1], shape=(4,), dtype=int32)\n",
      "'sex'\n",
      "'age'\n",
      "'n_siblings_spouses'\n",
      "'parch'\n",
      "'fare'\n",
      "'class'\n",
      "'deck'\n",
      "'embark_town'\n",
      "'alone'\n",
      "batch 1\n",
      "OrderedDict([('sex', <tf.Tensor: shape=(4,), dtype=string, numpy=array([b'female', b'male', b'male', b'male'], dtype=object)>), ('age', <tf.Tensor: shape=(4,), dtype=float32, numpy=array([28., 21., 29., 28.], dtype=float32)>), ('n_siblings_spouses', <tf.Tensor: shape=(4,), dtype=int32, numpy=array([1, 0, 1, 0], dtype=int32)>), ('parch', <tf.Tensor: shape=(4,), dtype=int32, numpy=array([0, 0, 0, 0], dtype=int32)>), ('fare', <tf.Tensor: shape=(4,), dtype=float32, numpy=array([51.8625,  7.7333, 21.    ,  7.8292], dtype=float32)>), ('class', <tf.Tensor: shape=(4,), dtype=string, numpy=array([b'First', b'Third', b'Second', b'Third'], dtype=object)>), ('deck', <tf.Tensor: shape=(4,), dtype=string, numpy=array([b'D', b'unknown', b'unknown', b'unknown'], dtype=object)>), ('embark_town', <tf.Tensor: shape=(4,), dtype=string, numpy=\n",
      "array([b'Southampton', b'Queenstown', b'Southampton', b'Queenstown'],\n",
      "      dtype=object)>), ('alone', <tf.Tensor: shape=(4,), dtype=string, numpy=array([b'n', b'y', b'n', b'y'], dtype=object)>)])\n",
      "tf.Tensor([1 0 0 0], shape=(4,), dtype=int32)\n",
      "'sex'\n",
      "'age'\n",
      "'n_siblings_spouses'\n",
      "'parch'\n",
      "'fare'\n",
      "'class'\n",
      "'deck'\n",
      "'embark_town'\n",
      "'alone'\n"
     ]
    }
   ],
   "source": [
    "# https://www.tensorflow.org/api_docs/python/tf/data/experimental/make_csv_dataset\n",
    "titanic_batches = tf.data.experimental.make_csv_dataset(\n",
    "    './train.csv', batch_size=4,\n",
    "    label_name=\"survived\")\n",
    "\n",
    "for i,batch in enumerate(titanic_batches.take(2)):\n",
    "    print('batch',i)\n",
    "    print(batch[0])\n",
    "    print(batch[1])\n",
    "    for item in batch[0]:\n",
    "        pprint(item)\n",
    "#     for in batch:\n",
    "#         pprint(feature)"
   ]
  },
  {
   "cell_type": "code",
   "execution_count": 124,
   "metadata": {},
   "outputs": [
    {
     "name": "stdout",
     "output_type": "stream",
     "text": [
      "b'./train.csv'\n",
      "(<tf.Tensor: shape=(), dtype=string, numpy=b'survived,sex,age,n_siblings_spouses,parch,fare,class,deck,embark_town,alone\\n0,male,22.0,1,0,7.25,Third,unknown,Southampton,n\\n1,female,38.0,1,0,71.2833,First,C,Cherbourg,n\\n1,female,26.0,0,0,7.925,Third,unknown,Southampton,y\\n1,female,35.0,1,0,53.1,First,C,Southampton,n\\n0,male,28.0,0,0,8.4583,Third,unknown,Queenstown,y\\n0,male,2.0,3,1,21.075,Third,unknown,Southampton,n\\n1,female,27.0,0,2,11.1333,Third,unknown,Southampton,n\\n1,female,14.0,1,0,30.0708,Second,unknown,Cherbourg,n\\n1,female,4.0,1,1,16.7,Third,G,Southampton,n\\n0,male,20.0,0,0,8.05,Third,unknown,Southampton,y\\n0,male,39.0,1,5,31.275,Third,unknown,Southampton,n\\n0,female,14.0,0,0,7.8542,Third,unknown,Southampton,y\\n0,male,2.0,4,1,29.125,Third,unknown,Queenstown,n\\n1,male,28.0,0,0,13.0,Second,unknown,Southampton,y\\n0,female,31.0,1,0,18.0,Third,unknown,Southampton,n\\n1,female,28.0,0,0,7.225,Third,unknown,Cherbourg,y\\n0,male,35.0,0,0,26.0,Second,unknown,Southampton,y\\n1,male,28.0,0,0,35.5,First,A,Southampton,y\\n1,female,38.0,1,5,31.3875,Third,unknown,Southampton,n\\n0,male,28.0,0,0,7.225,Third,unknown,Cherbourg,y\\n0,male,19.0,3,2,263.0,First,C,Southampton,n\\n1,female,28.0,0,0,7.8792,Third,unknown,Queenstown,y\\n0,male,28.0,0,0,7.8958,Third,unknown,Southampton,y\\n0,male,40.0,0,0,27.7208,First,unknown,Cherbourg,y\\n1,female,28.0,1,0,146.5208,First,B,Cherbourg,n\\n1,female,28.0,0,0,7.75,Third,unknown,Queenstown,y\\n0,male,66.0,0,0,10.5,Second,unknown,Southampton,y\\n0,male,28.0,1,0,82.1708,First,unknown,Cherbourg,n\\n0,male,42.0,1,0,52.0,First,unknown,Southampton,n\\n1,male,28.0,0,0,7.2292,Third,unknown,Cherbourg,y\\n1,female,14.0,1,0,11.2417,Third,unknown,Cherbourg,n\\n0,female,40.0,1,0,9.475,Third,unknown,Southampton,n\\n0,female,27.0,1,0,21.0,Second,unknown,Southampton,n\\n0,male,28.0,0,0,7.8958,Third,unknown,Cherbourg,y\\n1,female,3.0,1,2,41.5792,Second,unknown,Cherbourg,n\\n0,male,28.0,0,0,8.05,Third,unknown,Southampton,y\\n0,male,28.0,1,0,15.5,Third,unknown,Queenstown,n\\n0,male,28.0,2,0,21.6792,Third,unknown,Cherbourg,n\\n0,female,18.0,1,0,17.8,Third,unknown,Southampton,n\\n0,male,7.0,4,1,39.6875,Third,unknown,Southampton,n\\n1,female,49.0,1,0,76.7292,First,D,Cherbourg,n\\n1,female,29.0,1,0,26.0,Second,unknown,Southampton,n\\n0,male,65.0,0,1,61.9792,First,B,Cherbourg,n\\n1,male,28.0,0,0,35.5,First,C,Southampton,y\\n1,female,21.0,0,0,10.5,Second,unknown,Southampton,y\\n0,male,28.5,0,0,7.2292,Third,unknown,Cherbourg,y\\n0,male,11.0,5,2,46.9,Third,unknown,Southampton,n\\n0,male,22.0,0,0,7.2292,Third,unknown,Cherbourg,y\\n1,female,38.0,0,0,80.0,First,B,unknown,y\\n0,male,45.0,1,0,83.475,First,C,Southampton,n\\n0,male,4.0,3,2,27.9,Third,unknown,Southampton,n\\n1,male,28.0,1,1,15.2458,Third,unknown,Cherbourg,n\\n0,male,19.0,0,0,8.1583,Third,unknown,Southampton,y\\n1,female,17.0,4,2,7.925,Third,unknown,Southampton,n\\n0,male,26.0,2,0,8.6625,Third,unknown,Southampton,n\\n0,male,32.0,0,0,10.5,Second,unknown,Southampton,y\\n0,male,21.0,0,0,73.5,Second,unknown,Southampton,y\\n1,male,32.0,0,0,56.4958,Third,unknown,Southampton,y\\n0,male,25.0,0,0,7.65,Third,F,Southampton,y\\n0,male,28.0,0,0,7.8958,Third,unknown,Southampton,y\\n0,male,28.0,0,0,8.05,Third,unknown,Southampton,y\\n1,male,0.83,0,2,29.0,Second,unknown,Southampton,n\\n1,female,30.0,0,0,12.475,Third,unknown,Southampton,y\\n0,male,22.0,0,0,9.0,Third,unknown,Southampton,y\\n1,male,29.0,0,0,9.5,Third,unknown,Southampton,y\\n1,female,28.0,0,0,7.7875,Third,unknown,Queenstown,y\\n0,male,28.0,0,0,47.1,First,unknown,Southampton,y\\n0,male,16.0,1,3,34.375,Third,unknown,Southampton,n\\n0,male,28.0,0,0,8.05,Third,unknown,Southampton,y\\n1,female,23.0,3,2,263.0,First,C,Southampton,n\\n0,male,24.0,0,0,8.05,Third,unknown,Southampton,y\\n0,male,46.0,1,0,61.175,First,E,Southampton,n\\n0,male,59.0,0,0,7.25,Third,unknown,Southampton,y\\n0,male,28.0,0,0,8.05,Third,unknown,Southampton,y\\n0,male,71.0,0,0,34.6542,First,A,Cherbourg,y\\n1,male,23.0,0,1,63.3583,First,D,Cherbourg,n\\n1,female,34.0,0,1,23.0,Second,unknown,Southampton,n\\n0,male,34.0,1,0,26.0,Second,unknown,Southampton,n\\n0,female,28.0,0,0,7.8958,Third,unknown,Southampton,y\\n0,male,28.0,0,0,7.8958,Third,unknown,Southampton,y\\n0,male,21.0,0,1,77.2875,First,D,Southampton,n\\n0,male,33.0,0,0,8.6542,Third,unknown,Southampton,y\\n0,male,37.0,2,0,7.925,Third,unknown,Southampton,n\\n0,male,28.0,0,0,7.8958,Third,unknown,Southampton,y\\n1,male,28.0,0,0,7.775,Third,unknown,Southampton,y\\n1,female,28.0,1,0,24.15,Third,unknown,Queenstown,n\\n0,male,47.0,0,0,52.0,First,C,Southampton,y\\n0,female,14.5,1,0,14.4542,Third,unknown,Cherbourg,n\\n0,male,22.0,0,0,8.05,Third,unknown,Southampton,y\\n0,female,17.0,0,0,14.4583,Third,unknown,Cherbourg,y\\n0,male,21.0,0,0,7.925,Third,unknown,Southampton,y\\n0,male,70.5,0,0,7.75,Third,unknown,Queenstown,y\\n0,male,29.0,1,0,21.0,Second,unknown,Southampton,n\\n0,male,24.0,0,1,247.5208,First,B,Cherbourg,n\\n0,male,28.0,0,0,8.05,Third,unknown,Southampton,y\\n0,male,32.5,1,0,30.0708,Second,unknown,Cherbourg,n\\n1,female,32.5,0,0,13.0,Second,E,Southampton,y\\n0,male,28.0,0,0,7.75,Third,unknown,Queenstown,y\\n1,male,24.0,0,0,7.1417,Third,unknown,Southampton,y\\n0,male,45.0,0,0,6.975,Third,unknown,Southampton,y\\n0,male,20.0,0,0,7.05,Third,unknown,Southampton,y\\n0,female,47.0,1,0,14.5,Third,unknown,Southampton,n\\n0,male,23.0,0,0,15.0458,Second,unknown,Cherbourg,y\\n1,female,19.0,0,2,26.2833,First,D,Southampton,n\\n0,male,37.0,1,0,53.1,First,C,Southampton,n\\n0,male,16.0,0,0,9.2167,Third,unknown,Southampton,y\\n0,male,24.0,0,0,79.2,First,B,Cherbourg,y\\n0,female,28.0,0,2,15.2458,Third,unknown,Cherbourg,n\\n1,female,22.0,0,0,7.75,Third,unknown,Southampton,y\\n0,male,19.0,0,0,6.75,Third,unknown,Queenstown,y\\n0,male,18.0,0,0,11.5,Second,unknown,Southampton,y\\n0,female,9.0,2,2,34.375,Third,unknown,Southampton,n\\n0,male,51.0,0,0,12.525,Second,unknown,Southampton,y\\n0,male,55.5,0,0,8.05,Third,unknown,Southampton,y\\n0,male,40.5,0,2,14.5,Third,unknown,Southampton,n\\n0,male,28.0,0,0,7.3125,Third,unknown,Southampton,y\\n0,male,51.0,0,1,61.3792,First,unknown,Cherbourg,n\\n1,female,16.0,0,0,7.7333,Third,unknown,Queenstown,y\\n0,male,28.0,0,0,8.6625,Third,unknown,Southampton,y\\n0,male,28.0,8,2,69.55,Third,unknown,Southampton,n\\n0,male,44.0,0,1,16.1,Third,unknown,Southampton,n\\n0,male,26.0,0,0,7.775,Third,unknown,Southampton,y\\n0,male,17.0,0,0,8.6625,Third,unknown,Southampton,y\\n0,male,1.0,4,1,39.6875,Third,unknown,Southampton,n\\n1,female,28.0,0,1,55.0,First,E,Southampton,n\\n0,male,28.0,0,0,56.4958,Third,unknown,Southampton,y\\n0,male,4.0,4,1,29.125,Third,unknown,Queenstown,n\\n0,male,18.0,1,1,7.8542,Third,unknown,Southampton,n\\n0,male,28.0,3,1,25.4667,Third,unknown,Southampton,n\\n0,female,50.0,0,0,28.7125,First,C,Cherbourg,y\\n0,male,30.0,0,0,13.0,Second,unknown,Southampton,y\\n0,male,36.0,0,0,0.0,Third,unknown,Southampton,y\\n0,female,28.0,8,2,69.55,Third,unknown,Southampton,n\\n0,male,28.0,0,0,15.05,Second,unknown,Cherbourg,y\\n0,male,9.0,4,2,31.3875,Third,unknown,Southampton,n\\n1,female,4.0,0,2,22.025,Third,unknown,Southampton,n\\n1,female,28.0,1,0,15.5,Third,unknown,Queenstown,n\\n1,male,45.0,0,0,26.55,First,unknown,Southampton,y\\n0,male,36.0,0,0,7.8958,Third,unknown,Southampton,y\\n1,female,32.0,0,0,13.0,Second,unknown,Southampton,y\\n1,female,19.0,1,0,7.8542,Third,unknown,Southampton,n\\n1,male,3.0,1,1,26.0,Second,F,Southampton,n\\n1,female,44.0,0,0,27.7208,First,B,Cherbourg,y\\n1,female,58.0,0,0,146.5208,First,B,Cherbourg,y\\n0,male,28.0,0,0,7.75,Third,unknown,Queenstown,y\\n1,female,28.0,0,0,7.75,Third,unknown,Queenstown,y\\n0,female,24.0,0,0,13.0,Second,unknown,Southampton,y\\n0,male,28.0,0,0,9.5,Third,unknown,Southampton,y\\n0,male,28.0,8,2,69.55,Third,unknown,Southampton,n\\n0,male,34.0,0,0,6.4958,Third,unknown,Southampton,y\\n0,female,2.0,0,1,10.4625,Third,G,Southampton,n\\n0,male,32.0,1,0,15.85,Third,unknown,Southampton,n\\n1,male,26.0,0,0,18.7875,Third,unknown,Cherbourg,y\\n1,female,16.0,0,0,7.75,Third,unknown,Queenstown,y\\n1,male,40.0,0,0,31.0,First,A,Cherbourg,y\\n1,female,35.0,0,0,21.0,Second,unknown,Southampton,y\\n0,male,22.0,0,0,7.25,Third,unknown,Southampton,y\\n0,male,28.0,1,0,7.75,Third,unknown,Queenstown,n\\n1,female,31.0,1,0,113.275,First,D,Cherbourg,n\\n1,female,27.0,0,0,7.925,Third,unknown,Southampton,y\\n0,male,42.0,1,0,27.0,Second,unknown,Southampton,n\\n0,male,30.0,0,0,10.5,Second,unknown,Southampton,y\\n1,male,16.0,0,0,8.05,Third,unknown,Southampton,y\\n0,male,51.0,0,0,8.05,Third,unknown,Southampton,y\\n0,male,22.0,0,0,9.35,Third,unknown,Southampton,y\\n1,male,19.0,0,0,10.5,Second,unknown,Southampton,y\\n0,male,20.5,0,0,7.25,Third,unknown,Southampton,y\\n0,male,18.0,0,0,13.0,Second,unknown,Southampton,y\\n0,female,28.0,3,1,25.4667,Third,unknown,Southampton,n\\n1,female,35.0,1,0,83.475,First,C,Southampton,n\\n0,male,29.0,0,0,7.775,Third,unknown,Southampton,y\\n0,male,59.0,0,0,13.5,Second,unknown,Southampton,y\\n0,female,28.0,0,0,7.55,Third,unknown,Southampton,y\\n0,male,44.0,1,0,26.0,Second,unknown,Southampton,n\\n0,male,19.0,0,0,10.5,Second,unknown,Southampton,y\\n0,male,33.0,0,0,12.275,Second,unknown,Southampton,y\\n0,female,28.0,1,0,14.4542,Third,unknown,Cherbourg,n\\n1,female,28.0,1,0,15.5,Third,unknown,Queenstown,n\\n0,male,22.0,0,0,7.125,Third,unknown,Southampton,y\\n0,male,30.0,0,0,7.225,Third,unknown,Cherbourg,y\\n0,male,44.0,2,0,90.0,First,C,Queenstown,n\\n1,female,24.0,0,2,14.5,Second,unknown,Southampton,n\\n0,male,28.0,0,0,7.25,Third,unknown,Southampton,y\\n0,female,29.0,1,1,10.4625,Third,G,Southampton,n\\n0,male,30.0,1,0,16.1,Third,unknown,Southampton,n\\n0,female,41.0,0,2,20.2125,Third,unknown,Southampton,n\\n1,female,28.0,0,0,79.2,First,unknown,Cherbourg,y\\n1,female,35.0,0,0,512.3292,First,unknown,Cherbourg,y\\n1,female,50.0,0,1,26.0,Second,unknown,Southampton,n\\n0,male,28.0,0,0,7.75,Third,unknown,Queenstown,y\\n1,male,3.0,4,2,31.3875,Third,unknown,Southampton,n\\n0,male,40.0,0,0,0.0,First,B,Southampton,y\\n0,female,28.0,0,0,7.75,Third,unknown,Queenstown,y\\n0,male,36.0,0,0,10.5,Second,unknown,Southampton,y\\n0,male,16.0,4,1,39.6875,Third,unknown,Southampton,n\\n1,male,25.0,1,0,7.775,Third,unknown,Southampton,n\\n1,female,58.0,0,1,153.4625,First,C,Southampton,n\\n1,female,35.0,0,0,135.6333,First,C,Southampton,y\\n0,male,28.0,0,0,31.0,First,unknown,Southampton,y\\n1,male,25.0,0,0,0.0,Third,unknown,Southampton,y\\n1,female,41.0,0,1,19.5,Second,unknown,Southampton,n\\n0,male,37.0,0,1,29.7,First,C,Cherbourg,n\\n1,female,28.0,0,0,7.75,Third,unknown,Queenstown,y\\n1,female,63.0,1,0,77.9583,First,D,Southampton,n\\n0,female,45.0,0,0,7.75,Third,unknown,Southampton,y\\n0,male,28.0,0,0,0.0,Second,unknown,Southampton,y\\n0,male,7.0,4,1,29.125,Third,unknown,Queenstown,n\\n1,female,35.0,1,1,20.25,Third,unknown,Southampton,n\\n0,male,28.0,0,0,7.8542,Third,unknown,Southampton,y\\n0,male,16.0,0,0,9.5,Third,unknown,Southampton,y\\n0,male,28.0,0,0,26.0,First,A,Southampton,y\\n1,female,26.0,0,0,78.85,First,unknown,Southampton,y\\n0,male,36.0,0,0,12.875,Second,D,Cherbourg,y\\n0,male,24.0,0,0,7.8958,Third,unknown,Southampton,y\\n1,male,28.0,0,0,30.5,First,C,Southampton,y\\n1,female,50.0,0,1,247.5208,First,B,Cherbourg,n\\n1,female,28.0,0,0,7.75,Third,unknown,Queenstown,y\\n0,male,19.0,0,0,0.0,Third,unknown,Southampton,y\\n1,female,28.0,0,0,12.35,Second,E,Queenstown,y\\n0,male,28.0,0,0,8.05,Third,unknown,Southampton,y\\n1,female,28.0,0,0,110.8833,First,unknown,Cherbourg,y\\n1,female,17.0,1,0,108.9,First,C,Cherbourg,n\\n0,male,30.0,1,0,24.0,Second,unknown,Cherbourg,n\\n1,female,30.0,0,0,56.9292,First,E,Cherbourg,y\\n1,female,24.0,0,0,83.1583,First,C,Cherbourg,y\\n1,female,18.0,2,2,262.375,First,B,Cherbourg,n\\n0,female,26.0,1,1,26.0,Second,unknown,Southampton,n\\n0,male,28.0,0,0,7.8958,Third,unknown,Southampton,y\\n0,male,43.0,1,1,26.25,Second,unknown,Southampton,n\\n1,female,24.0,1,0,26.0,Second,unknown,Southampton,n\\n1,female,31.0,0,2,164.8667,First,C,Southampton,n\\n1,female,40.0,1,1,134.5,First,E,Cherbourg,n\\n0,male,22.0,0,0,7.25,Third,unknown,Southampton,y\\n0,male,27.0,0,0,7.8958,Third,unknown,Southampton,y\\n1,female,22.0,1,1,29.0,Second,unknown,Southampton,n\\n0,male,28.0,8,2,69.55,Third,unknown,Southampton,n\\n1,female,36.0,0,0,135.6333,First,C,Cherbourg,y\\n0,male,61.0,0,0,6.2375,Third,unknown,Southampton,y\\n1,female,31.0,1,1,20.525,Third,unknown,Southampton,n\\n1,female,28.0,2,0,23.25,Third,unknown,Queenstown,n\\n0,male,38.0,0,1,153.4625,First,C,Southampton,n\\n1,female,28.0,1,0,133.65,First,unknown,Southampton,n\\n0,male,28.0,0,0,7.8958,Third,unknown,Southampton,y\\n0,male,29.0,1,0,66.6,First,C,Southampton,n\\n1,male,45.0,0,0,8.05,Third,unknown,Southampton,y\\n0,male,45.0,0,0,35.5,First,unknown,Southampton,y\\n0,male,28.0,0,0,13.0,Second,unknown,Southampton,y\\n0,male,25.0,0,0,13.0,Second,unknown,Southampton,y\\n0,male,36.0,0,0,13.0,Second,unknown,Southampton,y\\n1,female,24.0,0,0,13.0,Second,F,Southampton,y\\n1,female,40.0,0,0,13.0,Second,unknown,Southampton,y\\n1,female,28.0,1,0,16.1,Third,unknown,Southampton,n\\n0,male,15.0,1,1,7.2292,Third,unknown,Cherbourg,n\\n0,male,25.0,1,0,17.8,Third,unknown,Southampton,n\\n0,male,28.0,0,0,7.225,Third,unknown,Cherbourg,y\\n0,male,28.0,0,0,9.5,Third,unknown,Southampton,y\\n1,female,22.0,0,1,55.0,First,E,Southampton,n\\n0,female,38.0,0,0,13.0,Second,unknown,Southampton,y\\n1,female,28.0,0,0,7.8792,Third,unknown,Queenstown,y\\n1,female,28.0,0,0,7.8792,Third,unknown,Queenstown,y\\n0,male,40.0,1,4,27.9,Third,unknown,Southampton,n\\n0,male,29.0,1,0,27.7208,Second,unknown,Cherbourg,n\\n0,female,45.0,0,1,14.4542,Third,unknown,Cherbourg,n\\n0,male,35.0,0,0,7.05,Third,unknown,Southampton,y\\n0,male,28.0,1,0,15.5,Third,unknown,Queenstown,n\\n1,female,60.0,1,0,75.25,First,D,Cherbourg,n\\n1,female,28.0,0,0,7.2292,Third,unknown,Cherbourg,y\\n1,female,28.0,0,0,7.75,Third,unknown,Queenstown,y\\n1,female,24.0,0,0,69.3,First,B,Cherbourg,y\\n0,male,18.0,1,0,6.4958,Third,unknown,Southampton,n\\n0,male,19.0,0,0,8.05,Third,unknown,Southampton,y\\n1,female,28.0,1,0,82.1708,First,unknown,Cherbourg,n\\n0,male,27.0,0,2,211.5,First,C,Cherbourg,n\\n0,male,19.0,0,0,7.775,Third,unknown,Southampton,y\\n1,female,42.0,0,0,227.525,First,unknown,Cherbourg,y\\n0,male,32.0,0,0,7.925,Third,unknown,Southampton,y\\n0,male,28.0,0,0,7.8958,Third,unknown,Southampton,y\\n0,male,18.0,0,0,73.5,Second,unknown,Southampton,y\\n0,male,1.0,5,2,46.9,Third,unknown,Southampton,n\\n0,male,28.0,0,0,7.7292,Third,unknown,Queenstown,y\\n1,female,17.0,0,0,12.0,Second,unknown,Cherbourg,y\\n1,male,36.0,1,2,120.0,First,B,Southampton,n\\n1,male,21.0,0,0,7.7958,Third,unknown,Southampton,y\\n1,female,23.0,1,0,113.275,First,D,Cherbourg,n\\n1,female,24.0,0,2,16.7,Third,G,Southampton,n\\n0,male,22.0,0,0,7.7958,Third,unknown,Southampton,y\\n0,female,31.0,0,0,7.8542,Third,unknown,Southampton,y\\n0,male,46.0,0,0,26.0,Second,unknown,Southampton,y\\n0,male,23.0,0,0,10.5,Second,unknown,Southampton,y\\n1,male,39.0,0,0,7.925,Third,unknown,Southampton,y\\n0,male,26.0,0,0,8.05,Third,unknown,Southampton,y\\n0,male,28.0,1,0,15.85,Third,unknown,Southampton,n\\n0,male,34.0,1,0,21.0,Second,unknown,Southampton,n\\n1,male,3.0,1,1,18.75,Second,unknown,Southampton,n\\n0,male,21.0,0,0,7.775,Third,unknown,Southampton,y\\n0,female,28.0,3,1,25.4667,Third,unknown,Southampton,n\\n0,male,28.0,0,0,7.8958,Third,unknown,Southampton,y\\n0,male,28.0,0,0,6.8583,Third,unknown,Queenstown,y\\n0,male,28.0,0,0,0.0,Second,unknown,Southampton,y\\n1,male,44.0,0,0,7.925,Third,unknown,Southampton,y\\n0,female,28.0,0,0,8.05,Third,unknown,Southampton,y\\n1,female,34.0,1,1,32.5,Second,unknown,Southampton,n\\n1,female,18.0,0,2,13.0,Second,unknown,Southampton,n\\n0,male,30.0,0,0,13.0,Second,unknown,Southampton,y\\n0,male,28.0,0,0,7.8958,Third,unknown,Cherbourg,y\\n0,male,21.0,0,0,7.7333,Third,unknown,Queenstown,y\\n0,male,18.0,1,1,20.2125,Third,unknown,Southampton,n\\n1,female,19.0,0,0,26.0,Second,unknown,Southampton,y\\n0,male,28.0,0,0,7.75,Third,unknown,Queenstown,y\\n1,male,32.0,0,0,8.05,Third,E,Southampton,y\\n1,male,28.0,0,0,26.55,First,C,Southampton,y\\n1,female,28.0,1,0,16.1,Third,unknown,Southampton,n\\n1,female,42.0,1,0,26.0,Second,unknown,Southampton,n\\n0,male,17.0,0,0,7.125,Third,unknown,Southampton,y\\n0,male,50.0,1,0,55.9,First,E,Southampton,n\\n1,female,14.0,1,2,120.0,First,B,Southampton,n\\n1,female,24.0,2,3,18.75,Second,unknown,Southampton,n\\n0,male,64.0,1,4,263.0,First,C,Southampton,n\\n0,male,31.0,0,0,10.5,Second,unknown,Southampton,y\\n1,female,45.0,1,1,26.25,Second,unknown,Southampton,n\\n0,male,20.0,0,0,9.5,Third,unknown,Southampton,y\\n1,female,28.0,0,0,13.0,Second,unknown,Southampton,y\\n1,male,28.0,0,0,8.1125,Third,unknown,Southampton,y\\n1,male,34.0,0,0,26.55,First,unknown,Southampton,y\\n1,female,5.0,2,1,19.2583,Third,unknown,Cherbourg,n\\n1,male,52.0,0,0,30.5,First,C,Southampton,y\\n0,male,36.0,1,2,27.75,Second,unknown,Southampton,n\\n0,male,30.0,0,0,27.75,First,C,Cherbourg,y\\n1,male,49.0,1,0,89.1042,First,C,Cherbourg,n\\n1,male,29.0,0,0,7.8958,Third,unknown,Cherbourg,y\\n0,male,65.0,0,0,26.55,First,E,Southampton,y\\n1,female,28.0,1,0,51.8625,First,D,Southampton,n\\n1,male,48.0,0,0,26.55,First,E,Southampton,y\\n0,male,34.0,0,0,8.05,Third,unknown,Southampton,y\\n0,male,47.0,0,0,38.5,First,E,Southampton,y\\n0,male,28.0,0,0,8.05,Third,unknown,Southampton,y\\n0,male,38.0,0,0,7.05,Third,unknown,Southampton,y\\n0,male,56.0,0,0,26.55,First,unknown,Southampton,y\\n0,male,28.0,0,0,7.725,Third,unknown,Queenstown,y\\n1,female,0.75,2,1,19.2583,Third,unknown,Cherbourg,n\\n0,male,28.0,0,0,7.25,Third,unknown,Southampton,y\\n1,female,33.0,1,2,27.75,Second,unknown,Southampton,n\\n1,female,23.0,0,0,13.7917,Second,D,Cherbourg,y\\n0,male,28.0,0,0,52.0,First,A,Southampton,y\\n0,male,34.0,1,0,21.0,Second,unknown,Southampton,n\\n0,male,29.0,1,0,7.0458,Third,unknown,Southampton,n\\n1,female,2.0,0,1,12.2875,Third,unknown,Southampton,n\\n0,male,9.0,5,2,46.9,Third,unknown,Southampton,n\\n0,male,28.0,0,0,0.0,Second,unknown,Southampton,y\\n1,female,63.0,0,0,9.5875,Third,unknown,Southampton,y\\n1,male,25.0,1,0,91.0792,First,B,Cherbourg,n\\n0,female,28.0,3,1,25.4667,Third,unknown,Southampton,n\\n1,female,35.0,1,0,90.0,First,C,Southampton,n\\n0,male,58.0,0,0,29.7,First,B,Cherbourg,y\\n1,male,9.0,1,1,15.9,Third,unknown,Southampton,n\\n0,male,28.0,1,0,19.9667,Third,unknown,Southampton,n\\n0,male,71.0,0,0,49.5042,First,unknown,Cherbourg,y\\n0,male,21.0,0,0,8.05,Third,unknown,Southampton,y\\n0,female,25.0,1,2,151.55,First,C,Southampton,n\\n0,male,17.0,0,0,8.6625,Third,unknown,Southampton,y\\n0,female,21.0,0,0,7.75,Third,unknown,Queenstown,y\\n0,female,37.0,0,0,9.5875,Third,unknown,Southampton,y\\n0,male,18.0,1,0,108.9,First,C,Cherbourg,n\\n1,female,33.0,0,2,26.0,Second,unknown,Southampton,n\\n1,male,28.0,0,0,26.55,First,unknown,Southampton,y\\n1,male,26.0,0,0,56.4958,Third,unknown,Southampton,y\\n1,female,54.0,1,0,59.4,First,unknown,Cherbourg,n\\n0,male,24.0,0,0,7.4958,Third,unknown,Southampton,y\\n0,male,47.0,0,0,34.0208,First,D,Southampton,y\\n1,female,34.0,0,0,10.5,Second,F,Southampton,y\\n1,female,36.0,1,0,26.0,Second,unknown,Southampton,n\\n0,male,32.0,0,0,7.8958,Third,unknown,Southampton,y\\n1,female,30.0,0,0,93.5,First,B,Southampton,y\\n0,male,22.0,0,0,7.8958,Third,unknown,Southampton,y\\n1,female,44.0,0,1,57.9792,First,B,Cherbourg,n\\n0,male,28.0,0,0,7.2292,Third,unknown,Cherbourg,y\\n0,male,40.5,0,0,7.75,Third,unknown,Queenstown,y\\n1,female,50.0,0,0,10.5,Second,unknown,Southampton,y\\n0,male,28.0,0,0,221.7792,First,C,Southampton,y\\n0,male,23.0,2,1,11.5,Second,unknown,Southampton,n\\n1,female,2.0,1,1,26.0,Second,unknown,Southampton,n\\n0,male,17.0,1,1,7.2292,Third,unknown,Cherbourg,n\\n1,female,28.0,0,2,22.3583,Third,unknown,Cherbourg,n\\n0,female,30.0,0,0,8.6625,Third,unknown,Southampton,y\\n1,female,7.0,0,2,26.25,Second,unknown,Southampton,n\\n0,male,45.0,0,0,26.55,First,B,Southampton,y\\n1,female,30.0,0,0,106.425,First,unknown,Cherbourg,y\\n1,female,22.0,0,2,49.5,First,B,Cherbourg,n\\n1,female,36.0,0,2,71.0,First,B,Southampton,n\\n0,female,9.0,4,2,31.275,Third,unknown,Southampton,n\\n0,female,11.0,4,2,31.275,Third,unknown,Southampton,n\\n0,male,50.0,1,0,106.425,First,C,Cherbourg,n\\n1,female,19.0,1,0,26.0,Second,unknown,Southampton,n\\n1,male,28.0,0,0,13.8625,Second,unknown,Cherbourg,y\\n0,male,33.0,1,1,20.525,Third,unknown,Southampton,n\\n1,male,17.0,0,2,110.8833,First,C,Cherbourg,n\\n0,male,27.0,0,0,26.0,Second,unknown,Southampton,y\\n0,male,28.0,0,0,7.8292,Third,unknown,Queenstown,y\\n1,female,22.0,0,0,7.775,Third,unknown,Southampton,y\\n1,female,48.0,1,0,39.6,First,A,Cherbourg,n\\n0,male,28.0,0,0,227.525,First,unknown,Cherbourg,y\\n1,female,39.0,1,1,79.65,First,E,Southampton,n\\n1,female,36.0,1,0,17.4,Third,unknown,Southampton,n\\n0,male,28.0,0,0,7.75,Third,unknown,Queenstown,y\\n0,male,40.0,0,0,7.8958,Third,unknown,Southampton,y\\n0,male,28.0,0,0,8.05,Third,unknown,Southampton,y\\n0,male,24.0,2,0,24.15,Third,unknown,Southampton,n\\n0,male,19.0,0,0,7.8958,Third,unknown,Southampton,y\\n0,female,29.0,0,4,21.075,Third,unknown,Southampton,n\\n1,male,32.0,0,0,7.8542,Third,unknown,Southampton,y\\n1,male,62.0,0,0,10.5,Second,unknown,Southampton,y\\n1,female,53.0,2,0,51.4792,First,C,Southampton,n\\n1,male,36.0,0,0,26.3875,First,E,Southampton,y\\n0,male,16.0,0,0,8.05,Third,unknown,Southampton,y\\n1,female,34.0,0,0,13.0,Second,unknown,Southampton,y\\n1,female,25.0,1,1,30.0,Second,unknown,Southampton,n\\n0,male,36.0,0,0,40.125,First,A,Cherbourg,y\\n0,male,47.0,0,0,15.0,Second,unknown,Southampton,y\\n1,male,60.0,1,1,79.2,First,B,Cherbourg,n\\n0,male,28.0,0,0,8.05,Third,unknown,Southampton,y\\n0,male,35.0,0,0,7.125,Third,unknown,Southampton,y\\n1,female,52.0,1,0,78.2667,First,D,Cherbourg,n\\n0,male,47.0,0,0,7.25,Third,unknown,Southampton,y\\n0,female,28.0,0,2,7.75,Third,unknown,Queenstown,n\\n0,male,37.0,1,0,26.0,Second,unknown,Southampton,n\\n0,male,36.0,1,1,24.15,Third,unknown,Southampton,n\\n1,female,28.0,0,0,33.0,Second,unknown,Southampton,y\\n0,male,49.0,0,0,0.0,Third,unknown,Southampton,y\\n0,male,28.0,0,0,7.225,Third,unknown,Cherbourg,y\\n1,male,49.0,1,0,56.9292,First,A,Cherbourg,n\\n1,male,35.0,0,0,26.55,First,unknown,Cherbourg,y\\n0,male,36.0,1,0,15.55,Third,unknown,Southampton,n\\n0,male,30.0,0,0,7.8958,Third,unknown,Southampton,y\\n1,male,27.0,0,0,30.5,First,unknown,Southampton,y\\n1,female,22.0,1,2,41.5792,Second,unknown,Cherbourg,n\\n1,female,40.0,0,0,153.4625,First,C,Southampton,y\\n0,female,39.0,1,5,31.275,Third,unknown,Southampton,n\\n0,male,28.0,0,0,7.05,Third,unknown,Southampton,y\\n1,female,28.0,1,0,15.5,Third,unknown,Queenstown,n\\n0,male,35.0,0,0,8.05,Third,unknown,Southampton,y\\n1,female,24.0,1,2,65.0,Second,unknown,Southampton,n\\n0,male,34.0,1,1,14.4,Third,unknown,Southampton,n\\n0,male,26.0,0,0,10.5,Second,unknown,Southampton,y\\n1,male,20.0,1,1,15.7417,Third,unknown,Cherbourg,n\\n0,male,61.0,0,0,32.3208,First,D,Southampton,y\\n0,male,57.0,0,0,12.35,Second,unknown,Queenstown,y\\n1,female,21.0,0,0,77.9583,First,D,Southampton,y\\n0,male,26.0,0,0,7.8958,Third,unknown,Southampton,y\\n0,male,28.0,0,0,7.7333,Third,unknown,Queenstown,y\\n1,male,80.0,0,0,30.0,First,A,Southampton,y\\n0,male,51.0,0,0,7.0542,Third,unknown,Southampton,y\\n1,male,32.0,0,0,30.5,First,B,Cherbourg,y\\n0,female,9.0,3,2,27.9,Third,unknown,Southampton,n\\n1,female,28.0,0,0,13.0,Second,unknown,Southampton,y\\n0,male,32.0,0,0,7.925,Third,unknown,Southampton,y\\n0,female,41.0,0,5,39.6875,Third,unknown,Southampton,n\\n0,male,28.0,1,0,16.1,Third,unknown,Southampton,n\\n0,male,20.0,0,0,7.8542,Third,unknown,Southampton,y\\n1,male,28.0,0,0,56.4958,Third,unknown,Southampton,y\\n1,female,0.75,2,1,19.2583,Third,unknown,Cherbourg,n\\n1,male,48.0,1,0,76.7292,First,D,Cherbourg,n\\n0,male,28.0,0,0,7.55,Third,unknown,Southampton,y\\n1,female,23.0,0,0,7.55,Third,unknown,Southampton,y\\n0,male,28.0,0,0,7.8958,Third,unknown,Southampton,y\\n1,female,18.0,0,1,23.0,Second,unknown,Southampton,n\\n0,male,21.0,0,0,8.4333,Third,unknown,Southampton,y\\n0,male,24.0,2,0,73.5,Second,unknown,Southampton,n\\n0,male,28.0,0,0,7.8958,Third,unknown,Southampton,y\\n0,female,32.0,1,1,15.5,Third,unknown,Queenstown,n\\n1,male,50.0,2,0,133.65,First,unknown,Southampton,n\\n0,male,47.0,0,0,25.5875,First,E,Southampton,y\\n0,male,36.0,0,0,7.4958,Third,unknown,Southampton,y\\n1,male,20.0,1,0,7.925,Third,unknown,Southampton,n\\n0,male,25.0,0,0,13.0,Second,unknown,Southampton,y\\n0,male,28.0,0,0,7.775,Third,unknown,Southampton,y\\n0,male,43.0,0,0,8.05,Third,unknown,Southampton,y\\n1,female,40.0,1,1,39.0,Second,unknown,Southampton,n\\n0,male,31.0,1,0,52.0,First,B,Southampton,n\\n1,male,31.0,0,0,13.0,Second,unknown,Southampton,y\\n0,male,28.0,0,0,0.0,Second,unknown,Southampton,y\\n0,male,18.0,0,0,7.775,Third,unknown,Southampton,y\\n1,female,18.0,0,0,9.8417,Third,unknown,Southampton,y\\n1,male,36.0,0,1,512.3292,First,B,Cherbourg,n\\n1,male,27.0,0,0,76.7292,First,D,Cherbourg,y\\n0,male,20.0,0,0,9.225,Third,unknown,Southampton,y\\n0,male,14.0,5,2,46.9,Third,unknown,Southampton,n\\n0,male,60.0,1,1,39.0,Second,unknown,Southampton,n\\n0,male,19.0,0,0,10.1708,Third,unknown,Southampton,y\\n0,male,18.0,0,0,7.7958,Third,unknown,Southampton,y\\n1,female,15.0,0,1,211.3375,First,B,Southampton,n\\n1,male,31.0,1,0,57.0,First,B,Southampton,n\\n1,female,4.0,0,1,13.4167,Third,unknown,Cherbourg,n\\n1,male,28.0,0,0,56.4958,Third,unknown,Southampton,y\\n0,male,60.0,0,0,26.55,First,unknown,Southampton,y\\n1,female,28.0,0,0,7.7333,Third,unknown,Queenstown,y\\n0,male,49.0,1,1,110.8833,First,C,Cherbourg,n\\n1,male,35.0,0,0,26.2875,First,E,Southampton,y\\n0,male,25.0,0,0,7.7417,Third,unknown,Queenstown,y\\n0,male,39.0,0,0,26.0,Second,unknown,Southampton,y\\n1,female,22.0,0,0,151.55,First,unknown,Southampton,y\\n1,male,28.0,1,1,15.2458,Third,unknown,Cherbourg,n\\n1,female,24.0,0,0,49.5042,First,C,Cherbourg,y\\n0,male,28.0,0,0,26.55,First,C,Southampton,y\\n1,male,48.0,1,0,52.0,First,C,Southampton,n\\n0,male,29.0,0,0,9.4833,Third,unknown,Southampton,y\\n0,male,19.0,0,0,7.65,Third,F,Southampton,y\\n1,female,38.0,0,0,227.525,First,C,Cherbourg,y\\n1,female,27.0,0,0,10.5,Second,E,Southampton,y\\n0,male,28.0,0,0,15.5,Third,unknown,Queenstown,y\\n0,male,33.0,0,0,7.775,Third,unknown,Southampton,y\\n1,female,6.0,0,1,33.0,Second,unknown,Southampton,n\\n0,male,50.0,0,0,13.0,Second,unknown,Southampton,y\\n1,male,27.0,1,0,53.1,First,E,Southampton,n\\n1,female,30.0,3,0,21.0,Second,unknown,Southampton,n\\n0,male,25.0,1,0,26.0,Second,unknown,Southampton,n\\n0,female,25.0,1,0,7.925,Third,unknown,Southampton,n\\n1,female,29.0,0,0,211.3375,First,B,Southampton,y\\n0,male,11.0,0,0,18.7875,Third,unknown,Cherbourg,y\\n0,male,28.0,0,0,0.0,Second,unknown,Southampton,y\\n0,male,23.0,0,0,13.0,Second,unknown,Southampton,y\\n0,male,23.0,0,0,13.0,Second,unknown,Southampton,y\\n1,male,35.0,0,0,512.3292,First,B,Cherbourg,y\\n0,male,28.0,0,0,7.8958,Third,unknown,Southampton,y\\n0,male,28.0,0,0,7.8958,Third,unknown,Southampton,y\\n0,male,36.0,1,0,78.85,First,C,Southampton,n\\n1,female,21.0,2,2,262.375,First,B,Cherbourg,n\\n0,male,24.0,1,0,16.1,Third,unknown,Southampton,n\\n0,male,70.0,1,1,71.0,First,B,Southampton,n\\n1,female,4.0,1,1,23.0,Second,unknown,Southampton,n\\n1,male,6.0,0,1,12.475,Third,E,Southampton,n\\n0,male,33.0,0,0,9.5,Third,unknown,Southampton,y\\n0,male,23.0,0,0,7.8958,Third,unknown,Southampton,y\\n1,female,48.0,1,2,65.0,Second,unknown,Southampton,n\\n0,male,28.0,0,0,7.7958,Third,unknown,Southampton,y\\n0,male,34.0,0,0,8.05,Third,unknown,Southampton,y\\n0,male,28.0,0,0,14.5,Third,unknown,Southampton,y\\n0,male,41.0,0,0,7.125,Third,unknown,Southampton,y\\n1,male,20.0,0,0,7.2292,Third,unknown,Cherbourg,y\\n1,female,51.0,1,0,77.9583,First,D,Southampton,n\\n0,male,28.0,0,0,39.6,First,unknown,Cherbourg,y\\n0,male,28.0,1,0,24.15,Third,unknown,Queenstown,n\\n0,male,32.0,0,0,8.3625,Third,unknown,Southampton,y\\n0,male,48.0,0,0,7.8542,Third,unknown,Southampton,y\\n0,female,57.0,0,0,10.5,Second,E,Southampton,y\\n0,male,18.0,0,0,7.75,Third,unknown,Southampton,y\\n0,male,28.0,0,0,7.75,Third,F,Queenstown,y\\n1,female,5.0,0,0,12.475,Third,unknown,Southampton,y\\n1,female,17.0,1,0,57.0,First,B,Southampton,n\\n0,male,29.0,0,0,30.0,First,D,Southampton,y\\n0,male,28.0,1,2,23.45,Third,unknown,Southampton,n\\n0,male,25.0,0,0,7.05,Third,unknown,Southampton,y\\n1,male,1.0,1,2,20.575,Third,unknown,Southampton,n\\n0,male,46.0,0,0,79.2,First,B,Cherbourg,y\\n0,male,28.0,0,0,7.75,Third,unknown,Queenstown,y\\n0,male,16.0,0,0,26.0,Second,unknown,Southampton,y\\n0,female,28.0,8,2,69.55,Third,unknown,Southampton,n\\n0,male,28.0,0,0,30.6958,First,unknown,Cherbourg,y\\n0,male,25.0,0,0,7.8958,Third,unknown,Southampton,y\\n0,male,39.0,0,0,13.0,Second,unknown,Southampton,y\\n1,female,49.0,0,0,25.9292,First,D,Southampton,y\\n1,female,31.0,0,0,8.6833,Third,unknown,Southampton,y\\n0,male,30.0,0,0,7.2292,Third,unknown,Cherbourg,y\\n0,female,30.0,1,1,24.15,Third,unknown,Southampton,n\\n0,male,34.0,0,0,13.0,Second,unknown,Southampton,y\\n1,female,31.0,1,1,26.25,Second,unknown,Southampton,n\\n1,male,11.0,1,2,120.0,First,B,Southampton,n\\n0,male,31.0,0,0,7.775,Third,unknown,Southampton,y\\n0,male,39.0,0,0,0.0,First,A,Southampton,y\\n0,male,39.0,0,0,13.0,Second,unknown,Southampton,y\\n1,female,33.0,1,0,53.1,First,E,Southampton,n\\n0,male,26.0,0,0,7.8875,Third,unknown,Southampton,y\\n0,male,39.0,0,0,24.15,Third,unknown,Southampton,y\\n0,male,35.0,0,0,10.5,Second,unknown,Southampton,y\\n0,male,30.5,0,0,8.05,Third,unknown,Southampton,y\\n0,male,28.0,0,0,0.0,First,B,Southampton,y\\n0,female,23.0,0,0,7.925,Third,unknown,Southampton,y\\n0,male,31.0,1,1,37.0042,Second,unknown,Cherbourg,n\\n0,male,10.0,3,2,27.9,Third,unknown,Southampton,n\\n1,female,52.0,1,1,93.5,First,B,Southampton,n\\n1,male,27.0,0,0,8.6625,Third,unknown,Southampton,y\\n0,male,2.0,4,1,39.6875,Third,unknown,Southampton,n\\n0,male,28.0,0,0,6.95,Third,unknown,Queenstown,y\\n0,male,28.0,0,0,56.4958,Third,unknown,Southampton,y\\n1,male,28.0,0,0,7.75,Third,unknown,Queenstown,y\\n1,female,15.0,1,0,14.4542,Third,unknown,Cherbourg,n\\n0,male,28.0,0,0,7.2292,Third,unknown,Cherbourg,y\\n0,male,23.0,0,0,7.8542,Third,unknown,Southampton,y\\n0,male,18.0,0,0,8.3,Third,unknown,Southampton,y\\n1,female,39.0,1,1,83.1583,First,E,Cherbourg,n\\n0,male,21.0,0,0,8.6625,Third,unknown,Southampton,y\\n0,male,28.0,0,0,8.05,Third,unknown,Southampton,y\\n1,male,28.0,0,0,29.7,First,C,Cherbourg,y\\n0,male,16.0,0,0,10.5,Second,unknown,Southampton,y\\n1,female,30.0,0,0,31.0,First,unknown,Cherbourg,y\\n0,male,34.5,0,0,6.4375,Third,unknown,Cherbourg,y\\n0,male,42.0,0,0,7.55,Third,unknown,Southampton,y\\n0,male,28.0,8,2,69.55,Third,unknown,Southampton,n\\n0,male,35.0,0,0,7.8958,Third,unknown,Cherbourg,y\\n0,male,28.0,0,1,33.0,Second,unknown,Southampton,n\\n1,female,28.0,1,0,89.1042,First,C,Cherbourg,n\\n0,male,4.0,4,2,31.275,Third,unknown,Southampton,n\\n1,female,16.0,0,1,39.4,First,D,Southampton,n\\n1,female,18.0,0,1,9.35,Third,unknown,Southampton,n\\n1,female,45.0,1,1,164.8667,First,unknown,Southampton,n\\n1,male,51.0,0,0,26.55,First,E,Southampton,y\\n1,female,24.0,0,3,19.2583,Third,unknown,Cherbourg,n\\n0,male,41.0,2,0,14.1083,Third,unknown,Southampton,n\\n0,male,24.0,0,0,13.0,Second,unknown,Southampton,y\\n1,female,42.0,0,0,13.0,Second,unknown,Southampton,y\\n1,female,27.0,1,0,13.8583,Second,unknown,Cherbourg,n\\n0,male,31.0,0,0,50.4958,First,A,Southampton,y\\n1,male,4.0,1,1,11.1333,Third,unknown,Southampton,n\\n0,male,26.0,0,0,7.8958,Third,unknown,Southampton,y\\n1,female,47.0,1,1,52.5542,First,D,Southampton,n\\n0,male,33.0,0,0,5.0,First,B,Southampton,y\\n0,male,47.0,0,0,9.0,Third,unknown,Southampton,y\\n1,female,28.0,1,0,24.0,Second,unknown,Cherbourg,n\\n1,female,15.0,0,0,7.225,Third,unknown,Cherbourg,y\\n0,male,20.0,0,0,9.8458,Third,unknown,Southampton,y\\n0,male,19.0,0,0,7.8958,Third,unknown,Southampton,y\\n0,male,28.0,0,0,7.8958,Third,unknown,Southampton,y\\n0,female,22.0,0,0,10.5167,Third,unknown,Southampton,y\\n0,male,28.0,0,0,10.5,Second,unknown,Southampton,y\\n0,male,25.0,0,0,7.05,Third,unknown,Southampton,y\\n1,female,19.0,0,0,30.0,First,B,Southampton,y\\n0,female,28.0,1,2,23.45,Third,unknown,Southampton,n\\n0,male,32.0,0,0,7.75,Third,unknown,Queenstown,y\\n'>, <tf.Tensor: shape=(), dtype=string, numpy=b'train.csv'>)\n"
     ]
    }
   ],
   "source": [
    "list_ds = tf.data.Dataset.list_files('*.csv')\n",
    "\n",
    "for f in list_ds.take(5):\n",
    "    print(f.numpy())\n",
    "    \n",
    "import os\n",
    "    \n",
    "def process_path(file_path):\n",
    "    label = tf.strings.split(file_path, os.sep)[-1]\n",
    "    return tf.io.read_file(file_path), label\n",
    "\n",
    "labeled_ds = list_ds.map(process_path)\n",
    "for item in labeled_ds.take(3):\n",
    "    print(item)"
   ]
  },
  {
   "cell_type": "code",
   "execution_count": 132,
   "metadata": {},
   "outputs": [
    {
     "name": "stdout",
     "output_type": "stream",
     "text": [
      "[array([], dtype=int64), array([1]), array([2, 2])]\n",
      "[[0 0 0]\n",
      " [1 0 0]\n",
      " [2 2 0]\n",
      " [3 3 3]]\n",
      "\n",
      "[[4 4 4 4 0 0 0]\n",
      " [5 5 5 5 5 0 0]\n",
      " [6 6 6 6 6 6 0]\n",
      " [7 7 7 7 7 7 7]]\n",
      "\n"
     ]
    }
   ],
   "source": [
    "dataset = tf.data.Dataset.range(100)\n",
    "dataset = dataset.map(lambda x: tf.fill([tf.cast(x, tf.int32)], x))\n",
    "\n",
    "pprint(list(dataset.take(3).as_numpy_iterator()))\n",
    "dataset = dataset.padded_batch(4, padded_shapes=(None,))\n",
    "\n",
    "for batch in dataset.take(2):\n",
    "    print(batch.numpy())\n",
    "    print()"
   ]
  },
  {
   "cell_type": "code",
   "execution_count": 135,
   "metadata": {},
   "outputs": [
    {
     "name": "stdout",
     "output_type": "stream",
     "text": [
      "[(24, b'0,male,40.0,0,0,27.7208,First,unknown,Cherbourg,y'),\n",
      " (39, b'0,female,18.0,1,0,17.8,Third,unknown,Southampton,n'),\n",
      " (38, b'0,male,28.0,2,0,21.6792,Third,unknown,Cherbourg,n')]\n"
     ]
    }
   ],
   "source": [
    "lines = tf.data.TextLineDataset('./train.csv')\n",
    "# 一个自增的小程序\n",
    "counter = tf.data.experimental.Counter()\n",
    "\n",
    "dataset = tf.data.Dataset.zip((counter, lines))\n",
    "dataset = dataset.shuffle(buffer_size=100)\n",
    "\n",
    "pprint(list(dataset.take(3).as_numpy_iterator()))"
   ]
  },
  {
   "cell_type": "code",
   "execution_count": null,
   "metadata": {},
   "outputs": [],
   "source": []
  },
  {
   "cell_type": "code",
   "execution_count": null,
   "metadata": {},
   "outputs": [],
   "source": []
  }
 ],
 "metadata": {
  "kernelspec": {
   "display_name": "Python 3",
   "language": "python",
   "name": "python3"
  },
  "language_info": {
   "codemirror_mode": {
    "name": "ipython",
    "version": 3
   },
   "file_extension": ".py",
   "mimetype": "text/x-python",
   "name": "python",
   "nbconvert_exporter": "python",
   "pygments_lexer": "ipython3",
   "version": "3.6.8"
  }
 },
 "nbformat": 4,
 "nbformat_minor": 2
}

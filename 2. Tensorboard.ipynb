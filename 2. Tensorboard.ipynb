{
 "cells": [
  {
   "cell_type": "code",
   "execution_count": 1,
   "metadata": {},
   "outputs": [],
   "source": [
    "# Load the TensorBoard notebook extension\n",
    "%load_ext tensorboard"
   ]
  },
  {
   "cell_type": "code",
   "execution_count": 2,
   "metadata": {},
   "outputs": [],
   "source": [
    "import tensorflow as tf\n",
    "import datetime"
   ]
  },
  {
   "cell_type": "code",
   "execution_count": 3,
   "metadata": {},
   "outputs": [],
   "source": [
    "# Clear any logs from previous runs\n",
    "!rm -rf ./logs/ "
   ]
  },
  {
   "cell_type": "code",
   "execution_count": 4,
   "metadata": {},
   "outputs": [],
   "source": [
    "# quick model"
   ]
  },
  {
   "cell_type": "code",
   "execution_count": 5,
   "metadata": {},
   "outputs": [],
   "source": [
    "mnist = tf.keras.datasets.mnist\n",
    "\n",
    "(x_train, y_train),(x_test, y_test) = mnist.load_data()\n",
    "x_train, x_test = x_train / 255.0, x_test / 255.0\n",
    "\n",
    "def create_model():\n",
    "  return tf.keras.models.Sequential([\n",
    "    tf.keras.layers.Flatten(input_shape=(28, 28)),\n",
    "    tf.keras.layers.Dense(512, activation='relu'),\n",
    "    tf.keras.layers.Dropout(0.2),\n",
    "    tf.keras.layers.Dense(10, activation='softmax')\n",
    "  ])"
   ]
  },
  {
   "cell_type": "code",
   "execution_count": 6,
   "metadata": {},
   "outputs": [
    {
     "name": "stdout",
     "output_type": "stream",
     "text": [
      "Train on 60000 samples, validate on 10000 samples\n",
      "Epoch 1/5\n",
      "60000/60000 [==============================] - 5s 85us/sample - loss: 0.2201 - accuracy: 0.9352 - val_loss: 0.1064 - val_accuracy: 0.9671\n",
      "Epoch 2/5\n",
      "60000/60000 [==============================] - 5s 82us/sample - loss: 0.0952 - accuracy: 0.9706 - val_loss: 0.0895 - val_accuracy: 0.9716\n",
      "Epoch 3/5\n",
      "60000/60000 [==============================] - 5s 89us/sample - loss: 0.0690 - accuracy: 0.9782 - val_loss: 0.0732 - val_accuracy: 0.9767\n",
      "Epoch 4/5\n",
      "60000/60000 [==============================] - 5s 83us/sample - loss: 0.0554 - accuracy: 0.9825 - val_loss: 0.0648 - val_accuracy: 0.9801\n",
      "Epoch 5/5\n",
      "60000/60000 [==============================] - 5s 86us/sample - loss: 0.0440 - accuracy: 0.9858 - val_loss: 0.0722 - val_accuracy: 0.9779\n"
     ]
    },
    {
     "data": {
      "text/plain": [
       "<tensorflow.python.keras.callbacks.History at 0x1110ef290>"
      ]
     },
     "execution_count": 6,
     "metadata": {},
     "output_type": "execute_result"
    }
   ],
   "source": [
    "model = create_model()\n",
    "model.compile(optimizer='adam',\n",
    "              loss='sparse_categorical_crossentropy',\n",
    "              metrics=['accuracy'])\n",
    "\n",
    "log_dir = \"logs/fit/\" + datetime.datetime.now().strftime(\"%Y%m%d-%H%M%S\")\n",
    "tensorboard_callback = tf.keras.callbacks.TensorBoard(log_dir=log_dir, histogram_freq=1)\n",
    "\n",
    "model.fit(x=x_train, \n",
    "          y=y_train, \n",
    "          epochs=5, \n",
    "          validation_data=(x_test, y_test), \n",
    "          callbacks=[tensorboard_callback])"
   ]
  },
  {
   "cell_type": "code",
   "execution_count": 10,
   "metadata": {},
   "outputs": [
    {
     "data": {
      "text/html": [
       "\n",
       "      <iframe id=\"tensorboard-frame-c8a1e802d262acb8\" width=\"100%\" height=\"800\" frameborder=\"0\">\n",
       "      </iframe>\n",
       "      <script>\n",
       "        (function() {\n",
       "          const frame = document.getElementById(\"tensorboard-frame-c8a1e802d262acb8\");\n",
       "          const url = new URL(\"/\", window.location);\n",
       "          url.port = 6006;\n",
       "          frame.src = url;\n",
       "        })();\n",
       "      </script>\n",
       "  "
      ],
      "text/plain": [
       "<IPython.core.display.HTML object>"
      ]
     },
     "metadata": {},
     "output_type": "display_data"
    }
   ],
   "source": [
    "%tensorboard --logdir logs/fit"
   ]
  },
  {
   "cell_type": "code",
   "execution_count": 9,
   "metadata": {},
   "outputs": [
    {
     "data": {
      "text/plain": [
       "'/var/folders/5c/j10bzzrx20z0dl0l64jnns7r39cpdg/T'"
      ]
     },
     "execution_count": 9,
     "metadata": {},
     "output_type": "execute_result"
    }
   ],
   "source": [
    "import tempfile\n",
    "tempfile.gettempdir()\n",
    "!rm -rf /var/folders/5c/j10bzzrx20z0dl0l64jnns7r39cpdg/T/.tensorboard-*"
   ]
  },
  {
   "cell_type": "code",
   "execution_count": 11,
   "metadata": {},
   "outputs": [
    {
     "name": "stdout",
     "output_type": "stream",
     "text": [
      "TensorFlow version:  2.1.0\n"
     ]
    }
   ],
   "source": [
    "from __future__ import absolute_import\n",
    "from __future__ import division\n",
    "from __future__ import print_function\n",
    "\n",
    "from datetime import datetime\n",
    "from packaging import version\n",
    "\n",
    "import tensorflow as tf\n",
    "from tensorflow import keras\n",
    "\n",
    "import numpy as np\n",
    "\n",
    "print(\"TensorFlow version: \", tf.__version__)\n",
    "assert version.parse(tf.__version__).release[0] >= 2, \\\n",
    "    \"This notebook requires TensorFlow 2.0 or above.\""
   ]
  },
  {
   "cell_type": "code",
   "execution_count": 12,
   "metadata": {},
   "outputs": [],
   "source": [
    "data_size = 1000\n",
    "# 80% of the data is for training.\n",
    "train_pct = 0.8\n",
    "\n",
    "train_size = int(data_size * train_pct)\n",
    "\n",
    "# Create some input data between -1 and 1 and randomize it.\n",
    "x = np.linspace(-1, 1, data_size)\n",
    "np.random.shuffle(x)\n",
    "\n",
    "# Generate the output data.\n",
    "# y = 0.5x + 2 + noise\n",
    "y = 0.5 * x + 2 + np.random.normal(0, 0.05, (data_size, ))\n",
    "\n",
    "# Split into test and train pairs.\n",
    "x_train, y_train = x[:train_size], y[:train_size]\n",
    "x_test, y_test = x[train_size:], y[train_size:]"
   ]
  },
  {
   "cell_type": "code",
   "execution_count": 14,
   "metadata": {},
   "outputs": [
    {
     "name": "stdout",
     "output_type": "stream",
     "text": [
      "Train on 800 samples, validate on 200 samples\n",
      "Epoch 1/100\n",
      "800/800 [==============================] - 0s 164us/sample - loss: 4.0792 - val_loss: 0.0846\n",
      "Epoch 2/100\n",
      "800/800 [==============================] - 0s 12us/sample - loss: 0.0876 - val_loss: 0.0091\n",
      "Epoch 3/100\n",
      "800/800 [==============================] - 0s 6us/sample - loss: 0.0088 - val_loss: 0.0031\n",
      "Epoch 4/100\n",
      "800/800 [==============================] - 0s 6us/sample - loss: 0.0034 - val_loss: 0.0024\n",
      "Epoch 5/100\n",
      "800/800 [==============================] - 0s 6us/sample - loss: 0.0026 - val_loss: 0.0023\n",
      "Epoch 6/100\n",
      "800/800 [==============================] - 0s 6us/sample - loss: 0.0024 - val_loss: 0.0022\n",
      "Epoch 7/100\n",
      "800/800 [==============================] - 0s 7us/sample - loss: 0.0024 - val_loss: 0.0022\n",
      "Epoch 8/100\n",
      "800/800 [==============================] - 0s 6us/sample - loss: 0.0024 - val_loss: 0.0022\n",
      "Epoch 9/100\n",
      "800/800 [==============================] - 0s 6us/sample - loss: 0.0024 - val_loss: 0.0022\n",
      "Epoch 10/100\n",
      "800/800 [==============================] - 0s 6us/sample - loss: 0.0024 - val_loss: 0.0022\n",
      "Epoch 11/100\n",
      "800/800 [==============================] - 0s 9us/sample - loss: 0.0024 - val_loss: 0.0022\n",
      "Epoch 12/100\n",
      "800/800 [==============================] - 0s 7us/sample - loss: 0.0024 - val_loss: 0.0022\n",
      "Epoch 13/100\n",
      "800/800 [==============================] - 0s 6us/sample - loss: 0.0024 - val_loss: 0.0022\n",
      "Epoch 14/100\n",
      "800/800 [==============================] - 0s 9us/sample - loss: 0.0024 - val_loss: 0.0022\n",
      "Epoch 15/100\n",
      "800/800 [==============================] - 0s 7us/sample - loss: 0.0024 - val_loss: 0.0022\n",
      "Epoch 16/100\n",
      "800/800 [==============================] - 0s 7us/sample - loss: 0.0024 - val_loss: 0.0022\n",
      "Epoch 17/100\n",
      "800/800 [==============================] - 0s 6us/sample - loss: 0.0024 - val_loss: 0.0022\n",
      "Epoch 18/100\n",
      "800/800 [==============================] - 0s 6us/sample - loss: 0.0024 - val_loss: 0.0022\n",
      "Epoch 19/100\n",
      "800/800 [==============================] - 0s 6us/sample - loss: 0.0024 - val_loss: 0.0022\n",
      "Epoch 20/100\n",
      "800/800 [==============================] - 0s 6us/sample - loss: 0.0024 - val_loss: 0.0022\n",
      "Epoch 21/100\n",
      "800/800 [==============================] - 0s 6us/sample - loss: 0.0024 - val_loss: 0.0022\n",
      "Epoch 22/100\n",
      "800/800 [==============================] - 0s 6us/sample - loss: 0.0024 - val_loss: 0.0022\n",
      "Epoch 23/100\n",
      "800/800 [==============================] - 0s 6us/sample - loss: 0.0024 - val_loss: 0.0022\n",
      "Epoch 24/100\n",
      "800/800 [==============================] - 0s 7us/sample - loss: 0.0024 - val_loss: 0.0022\n",
      "Epoch 25/100\n",
      "800/800 [==============================] - 0s 6us/sample - loss: 0.0024 - val_loss: 0.0022\n",
      "Epoch 26/100\n",
      "800/800 [==============================] - 0s 6us/sample - loss: 0.0024 - val_loss: 0.0022\n",
      "Epoch 27/100\n",
      "800/800 [==============================] - 0s 6us/sample - loss: 0.0024 - val_loss: 0.0022\n",
      "Epoch 28/100\n",
      "800/800 [==============================] - 0s 6us/sample - loss: 0.0024 - val_loss: 0.0022\n",
      "Epoch 29/100\n",
      "800/800 [==============================] - 0s 6us/sample - loss: 0.0024 - val_loss: 0.0022\n",
      "Epoch 30/100\n",
      "800/800 [==============================] - 0s 6us/sample - loss: 0.0024 - val_loss: 0.0022\n",
      "Epoch 31/100\n",
      "800/800 [==============================] - 0s 6us/sample - loss: 0.0024 - val_loss: 0.0022\n",
      "Epoch 32/100\n",
      "800/800 [==============================] - 0s 6us/sample - loss: 0.0024 - val_loss: 0.0022\n",
      "Epoch 33/100\n",
      "800/800 [==============================] - 0s 6us/sample - loss: 0.0024 - val_loss: 0.0022\n",
      "Epoch 34/100\n",
      "800/800 [==============================] - 0s 6us/sample - loss: 0.0024 - val_loss: 0.0022\n",
      "Epoch 35/100\n",
      "800/800 [==============================] - 0s 6us/sample - loss: 0.0024 - val_loss: 0.0022\n",
      "Epoch 36/100\n",
      "800/800 [==============================] - 0s 6us/sample - loss: 0.0024 - val_loss: 0.0022\n",
      "Epoch 37/100\n",
      "800/800 [==============================] - 0s 7us/sample - loss: 0.0024 - val_loss: 0.0022\n",
      "Epoch 38/100\n",
      "800/800 [==============================] - 0s 6us/sample - loss: 0.0024 - val_loss: 0.0022\n",
      "Epoch 39/100\n",
      "800/800 [==============================] - 0s 6us/sample - loss: 0.0024 - val_loss: 0.0022\n",
      "Epoch 40/100\n",
      "800/800 [==============================] - 0s 6us/sample - loss: 0.0024 - val_loss: 0.0022\n",
      "Epoch 41/100\n",
      "800/800 [==============================] - 0s 6us/sample - loss: 0.0024 - val_loss: 0.0022\n",
      "Epoch 42/100\n",
      "800/800 [==============================] - 0s 6us/sample - loss: 0.0024 - val_loss: 0.0022\n",
      "Epoch 43/100\n",
      "800/800 [==============================] - 0s 6us/sample - loss: 0.0024 - val_loss: 0.0022\n",
      "Epoch 44/100\n",
      "800/800 [==============================] - 0s 6us/sample - loss: 0.0024 - val_loss: 0.0022\n",
      "Epoch 45/100\n",
      "800/800 [==============================] - 0s 6us/sample - loss: 0.0024 - val_loss: 0.0022\n",
      "Epoch 46/100\n",
      "800/800 [==============================] - 0s 6us/sample - loss: 0.0024 - val_loss: 0.0022\n",
      "Epoch 47/100\n",
      "800/800 [==============================] - 0s 6us/sample - loss: 0.0024 - val_loss: 0.0022\n",
      "Epoch 48/100\n",
      "800/800 [==============================] - 0s 7us/sample - loss: 0.0024 - val_loss: 0.0022\n",
      "Epoch 49/100\n",
      "800/800 [==============================] - 0s 6us/sample - loss: 0.0024 - val_loss: 0.0022\n",
      "Epoch 50/100\n",
      "800/800 [==============================] - 0s 6us/sample - loss: 0.0024 - val_loss: 0.0022\n",
      "Epoch 51/100\n",
      "800/800 [==============================] - 0s 6us/sample - loss: 0.0024 - val_loss: 0.0022\n",
      "Epoch 52/100\n",
      "800/800 [==============================] - 0s 6us/sample - loss: 0.0024 - val_loss: 0.0022\n",
      "Epoch 53/100\n",
      "800/800 [==============================] - 0s 7us/sample - loss: 0.0024 - val_loss: 0.0022\n",
      "Epoch 54/100\n",
      "800/800 [==============================] - 0s 6us/sample - loss: 0.0024 - val_loss: 0.0022\n",
      "Epoch 55/100\n",
      "800/800 [==============================] - 0s 7us/sample - loss: 0.0024 - val_loss: 0.0022\n",
      "Epoch 56/100\n",
      "800/800 [==============================] - 0s 6us/sample - loss: 0.0024 - val_loss: 0.0022\n",
      "Epoch 57/100\n",
      "800/800 [==============================] - 0s 6us/sample - loss: 0.0024 - val_loss: 0.0022\n",
      "Epoch 58/100\n",
      "800/800 [==============================] - 0s 6us/sample - loss: 0.0024 - val_loss: 0.0022\n",
      "Epoch 59/100\n",
      "800/800 [==============================] - 0s 6us/sample - loss: 0.0024 - val_loss: 0.0022\n",
      "Epoch 60/100\n",
      "800/800 [==============================] - 0s 6us/sample - loss: 0.0024 - val_loss: 0.0022\n",
      "Epoch 61/100\n",
      "800/800 [==============================] - 0s 6us/sample - loss: 0.0024 - val_loss: 0.0022\n",
      "Epoch 62/100\n",
      "800/800 [==============================] - 0s 6us/sample - loss: 0.0024 - val_loss: 0.0022\n",
      "Epoch 63/100\n",
      "800/800 [==============================] - 0s 7us/sample - loss: 0.0024 - val_loss: 0.0022\n",
      "Epoch 64/100\n",
      "800/800 [==============================] - 0s 6us/sample - loss: 0.0024 - val_loss: 0.0022\n",
      "Epoch 65/100\n",
      "800/800 [==============================] - 0s 6us/sample - loss: 0.0024 - val_loss: 0.0022\n",
      "Epoch 66/100\n",
      "800/800 [==============================] - 0s 6us/sample - loss: 0.0024 - val_loss: 0.0022\n",
      "Epoch 67/100\n",
      "800/800 [==============================] - 0s 6us/sample - loss: 0.0024 - val_loss: 0.0022\n",
      "Epoch 68/100\n",
      "800/800 [==============================] - 0s 6us/sample - loss: 0.0024 - val_loss: 0.0022\n",
      "Epoch 69/100\n",
      "800/800 [==============================] - 0s 6us/sample - loss: 0.0024 - val_loss: 0.0022\n",
      "Epoch 70/100\n",
      "800/800 [==============================] - 0s 6us/sample - loss: 0.0024 - val_loss: 0.0022\n",
      "Epoch 71/100\n",
      "800/800 [==============================] - 0s 6us/sample - loss: 0.0024 - val_loss: 0.0022\n",
      "Epoch 72/100\n",
      "800/800 [==============================] - 0s 6us/sample - loss: 0.0024 - val_loss: 0.0022\n",
      "Epoch 73/100\n",
      "800/800 [==============================] - 0s 7us/sample - loss: 0.0024 - val_loss: 0.0022\n",
      "Epoch 74/100\n",
      "800/800 [==============================] - 0s 6us/sample - loss: 0.0024 - val_loss: 0.0022\n",
      "Epoch 75/100\n",
      "800/800 [==============================] - 0s 6us/sample - loss: 0.0024 - val_loss: 0.0022\n",
      "Epoch 76/100\n",
      "800/800 [==============================] - 0s 6us/sample - loss: 0.0024 - val_loss: 0.0022\n",
      "Epoch 77/100\n",
      "800/800 [==============================] - 0s 6us/sample - loss: 0.0024 - val_loss: 0.0022\n",
      "Epoch 78/100\n",
      "800/800 [==============================] - 0s 6us/sample - loss: 0.0024 - val_loss: 0.0022\n",
      "Epoch 79/100\n",
      "800/800 [==============================] - 0s 6us/sample - loss: 0.0024 - val_loss: 0.0022\n"
     ]
    },
    {
     "name": "stdout",
     "output_type": "stream",
     "text": [
      "Epoch 80/100\n",
      "800/800 [==============================] - 0s 9us/sample - loss: 0.0024 - val_loss: 0.0022\n",
      "Epoch 81/100\n",
      "800/800 [==============================] - 0s 7us/sample - loss: 0.0024 - val_loss: 0.0022\n",
      "Epoch 82/100\n",
      "800/800 [==============================] - 0s 6us/sample - loss: 0.0024 - val_loss: 0.0022\n",
      "Epoch 83/100\n",
      "800/800 [==============================] - 0s 7us/sample - loss: 0.0024 - val_loss: 0.0022\n",
      "Epoch 84/100\n",
      "800/800 [==============================] - 0s 6us/sample - loss: 0.0024 - val_loss: 0.0022\n",
      "Epoch 85/100\n",
      "800/800 [==============================] - 0s 7us/sample - loss: 0.0024 - val_loss: 0.0022\n",
      "Epoch 86/100\n",
      "800/800 [==============================] - 0s 6us/sample - loss: 0.0024 - val_loss: 0.0022\n",
      "Epoch 87/100\n",
      "800/800 [==============================] - 0s 6us/sample - loss: 0.0024 - val_loss: 0.0022\n",
      "Epoch 88/100\n",
      "800/800 [==============================] - 0s 6us/sample - loss: 0.0024 - val_loss: 0.0022\n",
      "Epoch 89/100\n",
      "800/800 [==============================] - 0s 6us/sample - loss: 0.0024 - val_loss: 0.0022\n",
      "Epoch 90/100\n",
      "800/800 [==============================] - 0s 6us/sample - loss: 0.0024 - val_loss: 0.0022\n",
      "Epoch 91/100\n",
      "800/800 [==============================] - 0s 6us/sample - loss: 0.0024 - val_loss: 0.0022\n",
      "Epoch 92/100\n",
      "800/800 [==============================] - 0s 6us/sample - loss: 0.0024 - val_loss: 0.0022\n",
      "Epoch 93/100\n",
      "800/800 [==============================] - 0s 6us/sample - loss: 0.0024 - val_loss: 0.0022\n",
      "Epoch 94/100\n",
      "800/800 [==============================] - 0s 6us/sample - loss: 0.0024 - val_loss: 0.0022\n",
      "Epoch 95/100\n",
      "800/800 [==============================] - 0s 6us/sample - loss: 0.0024 - val_loss: 0.0022\n",
      "Epoch 96/100\n",
      "800/800 [==============================] - 0s 6us/sample - loss: 0.0024 - val_loss: 0.0022\n",
      "Epoch 97/100\n",
      "800/800 [==============================] - 0s 6us/sample - loss: 0.0024 - val_loss: 0.0022\n",
      "Epoch 98/100\n",
      "800/800 [==============================] - 0s 8us/sample - loss: 0.0024 - val_loss: 0.0022\n",
      "Epoch 99/100\n",
      "800/800 [==============================] - 0s 6us/sample - loss: 0.0024 - val_loss: 0.0022\n",
      "Epoch 100/100\n",
      "800/800 [==============================] - 0s 6us/sample - loss: 0.0024 - val_loss: 0.0022\n"
     ]
    }
   ],
   "source": [
    "logdir = \"logs/scalars/\" + datetime.now().strftime(\"%Y%m%d-%H%M%S\")\n",
    "file_writer = tf.summary.create_file_writer(logdir + \"/metrics\")\n",
    "file_writer.set_as_default()\n",
    "\n",
    "def lr_schedule(epoch):\n",
    "  \"\"\"\n",
    "  Returns a custom learning rate that decreases as epochs progress.\n",
    "  \"\"\"\n",
    "  learning_rate = 0.2\n",
    "  if epoch > 10:\n",
    "    learning_rate = 0.02\n",
    "  if epoch > 20:\n",
    "    learning_rate = 0.01\n",
    "  if epoch > 50:\n",
    "    learning_rate = 0.005\n",
    "\n",
    "  tf.summary.scalar('learning rate', data=learning_rate, step=epoch)\n",
    "  return learning_rate\n",
    "\n",
    "lr_callback = keras.callbacks.LearningRateScheduler(lr_schedule)\n",
    "tensorboard_callback = keras.callbacks.TensorBoard(log_dir=logdir)\n",
    "\n",
    "model = keras.models.Sequential([\n",
    "    keras.layers.Dense(16, input_dim=1),\n",
    "    keras.layers.Dense(1),\n",
    "])\n",
    "\n",
    "model.compile(\n",
    "    loss='mse', # keras.losses.mean_squared_error\n",
    "    optimizer=keras.optimizers.SGD(),\n",
    ")\n",
    "\n",
    "training_history = model.fit(\n",
    "    x_train, # input\n",
    "    y_train, # output\n",
    "    batch_size=train_size,\n",
    "    verbose=1, # Suppress chatty output; use Tensorboard instead\n",
    "    epochs=100,\n",
    "    validation_data=(x_test, y_test),\n",
    "    callbacks=[tensorboard_callback, lr_callback],\n",
    ")"
   ]
  },
  {
   "cell_type": "code",
   "execution_count": 15,
   "metadata": {},
   "outputs": [
    {
     "data": {
      "text/html": [
       "\n",
       "      <iframe id=\"tensorboard-frame-16b3dc61f6c7a3bf\" width=\"100%\" height=\"800\" frameborder=\"0\">\n",
       "      </iframe>\n",
       "      <script>\n",
       "        (function() {\n",
       "          const frame = document.getElementById(\"tensorboard-frame-16b3dc61f6c7a3bf\");\n",
       "          const url = new URL(\"/\", window.location);\n",
       "          url.port = 6007;\n",
       "          frame.src = url;\n",
       "        })();\n",
       "      </script>\n",
       "  "
      ],
      "text/plain": [
       "<IPython.core.display.HTML object>"
      ]
     },
     "metadata": {},
     "output_type": "display_data"
    }
   ],
   "source": [
    "%tensorboard --logdir logs/scalars"
   ]
  },
  {
   "cell_type": "code",
   "execution_count": 16,
   "metadata": {},
   "outputs": [],
   "source": [
    "mnist = tf.keras.datasets.mnist\n",
    "\n",
    "(x_train, y_train),(x_test, y_test) = mnist.load_data()\n",
    "x_train, x_test = x_train / 255.0, x_test / 255.0"
   ]
  },
  {
   "cell_type": "code",
   "execution_count": 24,
   "metadata": {},
   "outputs": [],
   "source": [
    "# Sets up a timestamped log directory.\n",
    "logdir = \"logs/train_data/\" + datetime.now().strftime(\"%Y%m%d-%H%M%S\")\n",
    "# Creates a file writer for the log directory.\n",
    "file_writer = tf.summary.create_file_writer(logdir)\n",
    "\n",
    "# Using the file writer, log the reshaped image.\n",
    "with file_writer.as_default():\n",
    "    img = x_train[0].reshape(-1,28,28,1)\n",
    "    tf.summary.image(\"Training data\", img, step=0)\n",
    "    \n",
    "with file_writer.as_default():\n",
    "  # Don't forget to reshape.\n",
    "    images = np.reshape(x_train[0:10], (-1, 28, 28, 1))\n",
    "    tf.summary.image(\"10 training data examples\", images, max_outputs=10, step=0)"
   ]
  },
  {
   "cell_type": "code",
   "execution_count": 25,
   "metadata": {},
   "outputs": [
    {
     "data": {
      "text/plain": [
       "Reusing TensorBoard on port 6008 (pid 13170), started 0:01:04 ago. (Use '!kill 13170' to kill it.)"
      ]
     },
     "metadata": {},
     "output_type": "display_data"
    },
    {
     "data": {
      "text/html": [
       "\n",
       "      <iframe id=\"tensorboard-frame-38771c2ec08e28fb\" width=\"100%\" height=\"800\" frameborder=\"0\">\n",
       "      </iframe>\n",
       "      <script>\n",
       "        (function() {\n",
       "          const frame = document.getElementById(\"tensorboard-frame-38771c2ec08e28fb\");\n",
       "          const url = new URL(\"/\", window.location);\n",
       "          url.port = 6008;\n",
       "          frame.src = url;\n",
       "        })();\n",
       "      </script>\n",
       "  "
      ],
      "text/plain": [
       "<IPython.core.display.HTML object>"
      ]
     },
     "metadata": {},
     "output_type": "display_data"
    }
   ],
   "source": [
    "%tensorboard --logdir logs/train_data"
   ]
  },
  {
   "cell_type": "code",
   "execution_count": 23,
   "metadata": {},
   "outputs": [
    {
     "data": {
      "text/plain": [
       "Reusing TensorBoard on port 6008 (pid 13170), started 0:00:35 ago. (Use '!kill 13170' to kill it.)"
      ]
     },
     "metadata": {},
     "output_type": "display_data"
    },
    {
     "data": {
      "text/html": [
       "\n",
       "      <iframe id=\"tensorboard-frame-7d77ac2dd44a7ac7\" width=\"100%\" height=\"800\" frameborder=\"0\">\n",
       "      </iframe>\n",
       "      <script>\n",
       "        (function() {\n",
       "          const frame = document.getElementById(\"tensorboard-frame-7d77ac2dd44a7ac7\");\n",
       "          const url = new URL(\"/\", window.location);\n",
       "          url.port = 6008;\n",
       "          frame.src = url;\n",
       "        })();\n",
       "      </script>\n",
       "  "
      ],
      "text/plain": [
       "<IPython.core.display.HTML object>"
      ]
     },
     "metadata": {},
     "output_type": "display_data"
    }
   ],
   "source": [
    "\n",
    "\n",
    "%tensorboard --logdir logs/train_data"
   ]
  },
  {
   "cell_type": "code",
   "execution_count": 26,
   "metadata": {},
   "outputs": [],
   "source": [
    "# hyperparam tunning"
   ]
  },
  {
   "cell_type": "code",
   "execution_count": 27,
   "metadata": {},
   "outputs": [],
   "source": [
    "# Clear any logs from previous runs\n",
    "!rm -rf ./logs/ "
   ]
  },
  {
   "cell_type": "code",
   "execution_count": 28,
   "metadata": {},
   "outputs": [],
   "source": [
    "from tensorboard.plugins.hparams import api as hp\n"
   ]
  },
  {
   "cell_type": "code",
   "execution_count": 29,
   "metadata": {},
   "outputs": [
    {
     "name": "stdout",
     "output_type": "stream",
     "text": [
      "Downloading data from https://storage.googleapis.com/tensorflow/tf-keras-datasets/train-labels-idx1-ubyte.gz\n",
      "32768/29515 [=================================] - 0s 2us/step\n",
      "Downloading data from https://storage.googleapis.com/tensorflow/tf-keras-datasets/train-images-idx3-ubyte.gz\n",
      "26427392/26421880 [==============================] - 1s 0us/step\n",
      "Downloading data from https://storage.googleapis.com/tensorflow/tf-keras-datasets/t10k-labels-idx1-ubyte.gz\n",
      "8192/5148 [===============================================] - 0s 0us/step\n",
      "Downloading data from https://storage.googleapis.com/tensorflow/tf-keras-datasets/t10k-images-idx3-ubyte.gz\n",
      "4423680/4422102 [==============================] - 1s 0us/step\n"
     ]
    }
   ],
   "source": [
    "fashion_mnist = tf.keras.datasets.fashion_mnist\n",
    "\n",
    "(x_train, y_train),(x_test, y_test) = fashion_mnist.load_data()\n",
    "x_train, x_test = x_train / 255.0, x_test / 255.0"
   ]
  },
  {
   "cell_type": "code",
   "execution_count": 30,
   "metadata": {},
   "outputs": [],
   "source": [
    "HP_NUM_UNITS = hp.HParam('num_units', hp.Discrete([16, 32]))\n",
    "HP_DROPOUT = hp.HParam('dropout', hp.RealInterval(0.1, 0.2))\n",
    "HP_OPTIMIZER = hp.HParam('optimizer', hp.Discrete(['adam', 'sgd']))\n",
    "\n",
    "METRIC_ACCURACY = 'accuracy'\n",
    "\n",
    "with tf.summary.create_file_writer('logs/hparam_tuning').as_default():\n",
    "  hp.hparams_config(\n",
    "    hparams=[HP_NUM_UNITS, HP_DROPOUT, HP_OPTIMIZER],\n",
    "    metrics=[hp.Metric(METRIC_ACCURACY, display_name='Accuracy')],\n",
    "  )"
   ]
  },
  {
   "cell_type": "code",
   "execution_count": 31,
   "metadata": {},
   "outputs": [],
   "source": [
    "def train_test_model(hparams):\n",
    "  model = tf.keras.models.Sequential([\n",
    "    tf.keras.layers.Flatten(),\n",
    "    tf.keras.layers.Dense(hparams[HP_NUM_UNITS], activation=tf.nn.relu),\n",
    "    tf.keras.layers.Dropout(hparams[HP_DROPOUT]),\n",
    "    tf.keras.layers.Dense(10, activation=tf.nn.softmax),\n",
    "  ])\n",
    "  model.compile(\n",
    "      optimizer=hparams[HP_OPTIMIZER],\n",
    "      loss='sparse_categorical_crossentropy',\n",
    "      metrics=['accuracy'],\n",
    "  )\n",
    "\n",
    "  model.fit(x_train, y_train, epochs=1) # Run with 1 epoch to speed things up for demo purposes\n",
    "  _, accuracy = model.evaluate(x_test, y_test)\n",
    "  return accuracy"
   ]
  },
  {
   "cell_type": "code",
   "execution_count": 32,
   "metadata": {},
   "outputs": [],
   "source": [
    "def run(run_dir, hparams):\n",
    "  with tf.summary.create_file_writer(run_dir).as_default():\n",
    "    hp.hparams(hparams)  # record the values used in this trial\n",
    "    accuracy = train_test_model(hparams)\n",
    "    tf.summary.scalar(METRIC_ACCURACY, accuracy, step=1)"
   ]
  },
  {
   "cell_type": "code",
   "execution_count": 33,
   "metadata": {},
   "outputs": [
    {
     "name": "stdout",
     "output_type": "stream",
     "text": [
      "--- Starting trial: run-0\n",
      "{'num_units': 16, 'dropout': 0.1, 'optimizer': 'adam'}\n",
      "Train on 60000 samples\n",
      "60000/60000 [==============================] - 2s 30us/sample - loss: 0.7330 - accuracy: 0.7404\n",
      "10000/10000 [==============================] - 0s 21us/sample - loss: 0.4985 - accuracy: 0.8279\n",
      "--- Starting trial: run-1\n",
      "{'num_units': 16, 'dropout': 0.1, 'optimizer': 'sgd'}\n",
      "Train on 60000 samples\n",
      "60000/60000 [==============================] - 2s 27us/sample - loss: 1.0706 - accuracy: 0.6287\n",
      "10000/10000 [==============================] - 0s 20us/sample - loss: 0.6912 - accuracy: 0.7657\n",
      "--- Starting trial: run-2\n",
      "{'num_units': 16, 'dropout': 0.2, 'optimizer': 'adam'}\n",
      "Train on 60000 samples\n",
      "60000/60000 [==============================] - 2s 31us/sample - loss: 0.8027 - accuracy: 0.7173\n",
      "10000/10000 [==============================] - 0s 21us/sample - loss: 0.5135 - accuracy: 0.8197\n",
      "--- Starting trial: run-3\n",
      "{'num_units': 16, 'dropout': 0.2, 'optimizer': 'sgd'}\n",
      "Train on 60000 samples\n",
      "60000/60000 [==============================] - 2s 26us/sample - loss: 1.2315 - accuracy: 0.5802\n",
      "10000/10000 [==============================] - 0s 21us/sample - loss: 0.7541 - accuracy: 0.7695\n",
      "--- Starting trial: run-4\n",
      "{'num_units': 32, 'dropout': 0.1, 'optimizer': 'adam'}\n",
      "Train on 60000 samples\n",
      "60000/60000 [==============================] - 2s 32us/sample - loss: 0.6178 - accuracy: 0.7874\n",
      "10000/10000 [==============================] - 0s 21us/sample - loss: 0.4600 - accuracy: 0.8365\n",
      "--- Starting trial: run-5\n",
      "{'num_units': 32, 'dropout': 0.1, 'optimizer': 'sgd'}\n",
      "Train on 60000 samples\n",
      "60000/60000 [==============================] - 2s 27us/sample - loss: 0.8785 - accuracy: 0.7013\n",
      "10000/10000 [==============================] - 0s 22us/sample - loss: 0.6145 - accuracy: 0.7909\n",
      "--- Starting trial: run-6\n",
      "{'num_units': 32, 'dropout': 0.2, 'optimizer': 'adam'}\n",
      "Train on 60000 samples\n",
      "60000/60000 [==============================] - 2s 31us/sample - loss: 0.6508 - accuracy: 0.7734\n",
      "10000/10000 [==============================] - 0s 21us/sample - loss: 0.4659 - accuracy: 0.8330\n",
      "--- Starting trial: run-7\n",
      "{'num_units': 32, 'dropout': 0.2, 'optimizer': 'sgd'}\n",
      "Train on 60000 samples\n",
      "60000/60000 [==============================] - 2s 27us/sample - loss: 0.9589 - accuracy: 0.6648\n",
      "10000/10000 [==============================] - 0s 21us/sample - loss: 0.6452 - accuracy: 0.7734\n"
     ]
    }
   ],
   "source": [
    "session_num = 0\n",
    "\n",
    "for num_units in HP_NUM_UNITS.domain.values:\n",
    "  for dropout_rate in (HP_DROPOUT.domain.min_value, HP_DROPOUT.domain.max_value):\n",
    "    for optimizer in HP_OPTIMIZER.domain.values:\n",
    "      hparams = {\n",
    "          HP_NUM_UNITS: num_units,\n",
    "          HP_DROPOUT: dropout_rate,\n",
    "          HP_OPTIMIZER: optimizer,\n",
    "      }\n",
    "      run_name = \"run-%d\" % session_num\n",
    "      print('--- Starting trial: %s' % run_name)\n",
    "      print({h.name: hparams[h] for h in hparams})\n",
    "      run('logs/hparam_tuning/' + run_name, hparams)\n",
    "      session_num += 1"
   ]
  },
  {
   "cell_type": "code",
   "execution_count": 34,
   "metadata": {},
   "outputs": [
    {
     "data": {
      "text/html": [
       "\n",
       "      <iframe id=\"tensorboard-frame-d9eb3fbd7d59b95d\" width=\"100%\" height=\"800\" frameborder=\"0\">\n",
       "      </iframe>\n",
       "      <script>\n",
       "        (function() {\n",
       "          const frame = document.getElementById(\"tensorboard-frame-d9eb3fbd7d59b95d\");\n",
       "          const url = new URL(\"/\", window.location);\n",
       "          url.port = 6009;\n",
       "          frame.src = url;\n",
       "        })();\n",
       "      </script>\n",
       "  "
      ],
      "text/plain": [
       "<IPython.core.display.HTML object>"
      ]
     },
     "metadata": {},
     "output_type": "display_data"
    }
   ],
   "source": [
    "%tensorboard --logdir logs/hparam_tuning"
   ]
  },
  {
   "cell_type": "code",
   "execution_count": null,
   "metadata": {},
   "outputs": [],
   "source": []
  }
 ],
 "metadata": {
  "kernelspec": {
   "display_name": "Python 3",
   "language": "python",
   "name": "python3"
  },
  "language_info": {
   "codemirror_mode": {
    "name": "ipython",
    "version": 3
   },
   "file_extension": ".py",
   "mimetype": "text/x-python",
   "name": "python",
   "nbconvert_exporter": "python",
   "pygments_lexer": "ipython3",
   "version": "3.7.7"
  }
 },
 "nbformat": 4,
 "nbformat_minor": 4
}
